{
  "cells": [
    {
      "cell_type": "markdown",
      "metadata": {
        "id": "Y8zz38JcZixi"
      },
      "source": [
        "## Limpieza De Datos \n",
        "\n"
      ]
    },
    {
      "cell_type": "code",
      "execution_count": 319,
      "metadata": {
        "colab": {
          "base_uri": "https://localhost:8080/"
        },
        "id": "JDM-kQl2Zixs",
        "outputId": "f6362b46-a86b-403d-de0a-541c3c0f3d7a"
      },
      "outputs": [
        {
          "output_type": "stream",
          "name": "stdout",
          "text": [
            "Drive already mounted at /content/drive; to attempt to forcibly remount, call drive.mount(\"/content/drive\", force_remount=True).\n"
          ]
        }
      ],
      "source": [
        "from google.colab import drive \n",
        "drive.mount('/content/drive')"
      ]
    },
    {
      "cell_type": "code",
      "execution_count": 320,
      "metadata": {
        "id": "F-39glVfZixu"
      },
      "outputs": [],
      "source": [
        "import pandas as pd\n",
        "import numpy as np "
      ]
    },
    {
      "cell_type": "code",
      "execution_count": 321,
      "metadata": {
        "id": "sFbGXJNvaCuA"
      },
      "outputs": [],
      "source": [
        "imdb = pd.read_csv(\"/content/drive/MyDrive/limpieza de datos/Clase 1 - Limpieza datos/datasets/IMDB.csv\",sep=\";\")"
      ]
    },
    {
      "cell_type": "code",
      "execution_count": 322,
      "metadata": {
        "colab": {
          "base_uri": "https://localhost:8080/",
          "height": 530
        },
        "id": "7L21qXTkaCx_",
        "outputId": "31ecc74e-cd00-442d-b284-ed6c936083b3"
      },
      "outputs": [
        {
          "output_type": "execute_result",
          "data": {
            "text/plain": [
              "    color      director_name  duration        gross  \\\n",
              "0   Color    Martin Scorsese       240  116866727.0   \n",
              "1   Color        Shane Black       195  408992272.0   \n",
              "2  color   Quentin Tarantino       187   54116191.0   \n",
              "3   Color   Kenneth Lonergan       186      46495.0   \n",
              "4   Color      Peter Jackson       186  258355354.0   \n",
              "\n",
              "                                 genres                          movie_title  \\\n",
              "0          Biography|Comedy|Crime|Drama              The Wolf of Wall Street   \n",
              "1               Action|Adventure|Sci-Fi                           Iron Man 3   \n",
              "2  Crime|Drama|Mystery|Thriller|Western                    The Hateful Eight   \n",
              "3                                 Drama                             Margaret   \n",
              "4                     Adventure|Fantasy  The Hobbit: The Desolation of Smaug   \n",
              "\n",
              "   title_year language country       budget  imdb_score  \\\n",
              "0        2013  English     USA  100000000.0         8.2   \n",
              "1        2013  English     USA  200000000.0         7.2   \n",
              "2        2015  English     USA   44000000.0         7.9   \n",
              "3        2011  English     usa   14000000.0         6.5   \n",
              "4        2013  English     USA  225000000.0         7.9   \n",
              "\n",
              "                                              actors  movie_facebook_likes  \n",
              "0  Leonardo DiCaprio,Matthew McConaughey,Jon Favreau                138000  \n",
              "1          Robert Downey Jr.,Jon Favreau,Don Cheadle                 95000  \n",
              "2          Craig Stark,Jennifer Jason Leigh,Zoë Bell                114000  \n",
              "3        Matt Damon,Kieran Culkin,John Gallagher Jr.                     0  \n",
              "4              Aidan Turner,Adam Brown,James Nesbitt                 83000  "
            ],
            "text/html": [
              "\n",
              "  <div id=\"df-9023ddf7-d18b-4922-8ff1-787d30e76783\">\n",
              "    <div class=\"colab-df-container\">\n",
              "      <div>\n",
              "<style scoped>\n",
              "    .dataframe tbody tr th:only-of-type {\n",
              "        vertical-align: middle;\n",
              "    }\n",
              "\n",
              "    .dataframe tbody tr th {\n",
              "        vertical-align: top;\n",
              "    }\n",
              "\n",
              "    .dataframe thead th {\n",
              "        text-align: right;\n",
              "    }\n",
              "</style>\n",
              "<table border=\"1\" class=\"dataframe\">\n",
              "  <thead>\n",
              "    <tr style=\"text-align: right;\">\n",
              "      <th></th>\n",
              "      <th>color</th>\n",
              "      <th>director_name</th>\n",
              "      <th>duration</th>\n",
              "      <th>gross</th>\n",
              "      <th>genres</th>\n",
              "      <th>movie_title</th>\n",
              "      <th>title_year</th>\n",
              "      <th>language</th>\n",
              "      <th>country</th>\n",
              "      <th>budget</th>\n",
              "      <th>imdb_score</th>\n",
              "      <th>actors</th>\n",
              "      <th>movie_facebook_likes</th>\n",
              "    </tr>\n",
              "  </thead>\n",
              "  <tbody>\n",
              "    <tr>\n",
              "      <th>0</th>\n",
              "      <td>Color</td>\n",
              "      <td>Martin Scorsese</td>\n",
              "      <td>240</td>\n",
              "      <td>116866727.0</td>\n",
              "      <td>Biography|Comedy|Crime|Drama</td>\n",
              "      <td>The Wolf of Wall Street</td>\n",
              "      <td>2013</td>\n",
              "      <td>English</td>\n",
              "      <td>USA</td>\n",
              "      <td>100000000.0</td>\n",
              "      <td>8.2</td>\n",
              "      <td>Leonardo DiCaprio,Matthew McConaughey,Jon Favreau</td>\n",
              "      <td>138000</td>\n",
              "    </tr>\n",
              "    <tr>\n",
              "      <th>1</th>\n",
              "      <td>Color</td>\n",
              "      <td>Shane Black</td>\n",
              "      <td>195</td>\n",
              "      <td>408992272.0</td>\n",
              "      <td>Action|Adventure|Sci-Fi</td>\n",
              "      <td>Iron Man 3</td>\n",
              "      <td>2013</td>\n",
              "      <td>English</td>\n",
              "      <td>USA</td>\n",
              "      <td>200000000.0</td>\n",
              "      <td>7.2</td>\n",
              "      <td>Robert Downey Jr.,Jon Favreau,Don Cheadle</td>\n",
              "      <td>95000</td>\n",
              "    </tr>\n",
              "    <tr>\n",
              "      <th>2</th>\n",
              "      <td>color</td>\n",
              "      <td>Quentin Tarantino</td>\n",
              "      <td>187</td>\n",
              "      <td>54116191.0</td>\n",
              "      <td>Crime|Drama|Mystery|Thriller|Western</td>\n",
              "      <td>The Hateful Eight</td>\n",
              "      <td>2015</td>\n",
              "      <td>English</td>\n",
              "      <td>USA</td>\n",
              "      <td>44000000.0</td>\n",
              "      <td>7.9</td>\n",
              "      <td>Craig Stark,Jennifer Jason Leigh,Zoë Bell</td>\n",
              "      <td>114000</td>\n",
              "    </tr>\n",
              "    <tr>\n",
              "      <th>3</th>\n",
              "      <td>Color</td>\n",
              "      <td>Kenneth Lonergan</td>\n",
              "      <td>186</td>\n",
              "      <td>46495.0</td>\n",
              "      <td>Drama</td>\n",
              "      <td>Margaret</td>\n",
              "      <td>2011</td>\n",
              "      <td>English</td>\n",
              "      <td>usa</td>\n",
              "      <td>14000000.0</td>\n",
              "      <td>6.5</td>\n",
              "      <td>Matt Damon,Kieran Culkin,John Gallagher Jr.</td>\n",
              "      <td>0</td>\n",
              "    </tr>\n",
              "    <tr>\n",
              "      <th>4</th>\n",
              "      <td>Color</td>\n",
              "      <td>Peter Jackson</td>\n",
              "      <td>186</td>\n",
              "      <td>258355354.0</td>\n",
              "      <td>Adventure|Fantasy</td>\n",
              "      <td>The Hobbit: The Desolation of Smaug</td>\n",
              "      <td>2013</td>\n",
              "      <td>English</td>\n",
              "      <td>USA</td>\n",
              "      <td>225000000.0</td>\n",
              "      <td>7.9</td>\n",
              "      <td>Aidan Turner,Adam Brown,James Nesbitt</td>\n",
              "      <td>83000</td>\n",
              "    </tr>\n",
              "  </tbody>\n",
              "</table>\n",
              "</div>\n",
              "      <button class=\"colab-df-convert\" onclick=\"convertToInteractive('df-9023ddf7-d18b-4922-8ff1-787d30e76783')\"\n",
              "              title=\"Convert this dataframe to an interactive table.\"\n",
              "              style=\"display:none;\">\n",
              "        \n",
              "  <svg xmlns=\"http://www.w3.org/2000/svg\" height=\"24px\"viewBox=\"0 0 24 24\"\n",
              "       width=\"24px\">\n",
              "    <path d=\"M0 0h24v24H0V0z\" fill=\"none\"/>\n",
              "    <path d=\"M18.56 5.44l.94 2.06.94-2.06 2.06-.94-2.06-.94-.94-2.06-.94 2.06-2.06.94zm-11 1L8.5 8.5l.94-2.06 2.06-.94-2.06-.94L8.5 2.5l-.94 2.06-2.06.94zm10 10l.94 2.06.94-2.06 2.06-.94-2.06-.94-.94-2.06-.94 2.06-2.06.94z\"/><path d=\"M17.41 7.96l-1.37-1.37c-.4-.4-.92-.59-1.43-.59-.52 0-1.04.2-1.43.59L10.3 9.45l-7.72 7.72c-.78.78-.78 2.05 0 2.83L4 21.41c.39.39.9.59 1.41.59.51 0 1.02-.2 1.41-.59l7.78-7.78 2.81-2.81c.8-.78.8-2.07 0-2.86zM5.41 20L4 18.59l7.72-7.72 1.47 1.35L5.41 20z\"/>\n",
              "  </svg>\n",
              "      </button>\n",
              "      \n",
              "  <style>\n",
              "    .colab-df-container {\n",
              "      display:flex;\n",
              "      flex-wrap:wrap;\n",
              "      gap: 12px;\n",
              "    }\n",
              "\n",
              "    .colab-df-convert {\n",
              "      background-color: #E8F0FE;\n",
              "      border: none;\n",
              "      border-radius: 50%;\n",
              "      cursor: pointer;\n",
              "      display: none;\n",
              "      fill: #1967D2;\n",
              "      height: 32px;\n",
              "      padding: 0 0 0 0;\n",
              "      width: 32px;\n",
              "    }\n",
              "\n",
              "    .colab-df-convert:hover {\n",
              "      background-color: #E2EBFA;\n",
              "      box-shadow: 0px 1px 2px rgba(60, 64, 67, 0.3), 0px 1px 3px 1px rgba(60, 64, 67, 0.15);\n",
              "      fill: #174EA6;\n",
              "    }\n",
              "\n",
              "    [theme=dark] .colab-df-convert {\n",
              "      background-color: #3B4455;\n",
              "      fill: #D2E3FC;\n",
              "    }\n",
              "\n",
              "    [theme=dark] .colab-df-convert:hover {\n",
              "      background-color: #434B5C;\n",
              "      box-shadow: 0px 1px 3px 1px rgba(0, 0, 0, 0.15);\n",
              "      filter: drop-shadow(0px 1px 2px rgba(0, 0, 0, 0.3));\n",
              "      fill: #FFFFFF;\n",
              "    }\n",
              "  </style>\n",
              "\n",
              "      <script>\n",
              "        const buttonEl =\n",
              "          document.querySelector('#df-9023ddf7-d18b-4922-8ff1-787d30e76783 button.colab-df-convert');\n",
              "        buttonEl.style.display =\n",
              "          google.colab.kernel.accessAllowed ? 'block' : 'none';\n",
              "\n",
              "        async function convertToInteractive(key) {\n",
              "          const element = document.querySelector('#df-9023ddf7-d18b-4922-8ff1-787d30e76783');\n",
              "          const dataTable =\n",
              "            await google.colab.kernel.invokeFunction('convertToInteractive',\n",
              "                                                     [key], {});\n",
              "          if (!dataTable) return;\n",
              "\n",
              "          const docLinkHtml = 'Like what you see? Visit the ' +\n",
              "            '<a target=\"_blank\" href=https://colab.research.google.com/notebooks/data_table.ipynb>data table notebook</a>'\n",
              "            + ' to learn more about interactive tables.';\n",
              "          element.innerHTML = '';\n",
              "          dataTable['output_type'] = 'display_data';\n",
              "          await google.colab.output.renderOutput(dataTable, element);\n",
              "          const docLink = document.createElement('div');\n",
              "          docLink.innerHTML = docLinkHtml;\n",
              "          element.appendChild(docLink);\n",
              "        }\n",
              "      </script>\n",
              "    </div>\n",
              "  </div>\n",
              "  "
            ]
          },
          "metadata": {},
          "execution_count": 322
        }
      ],
      "source": [
        "imdb.head()"
      ]
    },
    {
      "cell_type": "code",
      "execution_count": 323,
      "metadata": {
        "colab": {
          "base_uri": "https://localhost:8080/"
        },
        "id": "a-A1CTTpaC2U",
        "outputId": "4f9671ad-5cae-4220-f732-ca4dbfbf4fd7"
      },
      "outputs": [
        {
          "output_type": "stream",
          "name": "stdout",
          "text": [
            "<class 'pandas.core.frame.DataFrame'>\n",
            "RangeIndex: 97 entries, 0 to 96\n",
            "Data columns (total 13 columns):\n",
            " #   Column                Non-Null Count  Dtype  \n",
            "---  ------                --------------  -----  \n",
            " 0   color                 86 non-null     object \n",
            " 1   director_name         86 non-null     object \n",
            " 2   duration              97 non-null     int64  \n",
            " 3   gross                 89 non-null     float64\n",
            " 4   genres                96 non-null     object \n",
            " 5   movie_title           97 non-null     object \n",
            " 6   title_year            97 non-null     int64  \n",
            " 7   language              97 non-null     object \n",
            " 8   country               97 non-null     object \n",
            " 9   budget                93 non-null     float64\n",
            " 10  imdb_score            97 non-null     float64\n",
            " 11  actors                97 non-null     object \n",
            " 12  movie_facebook_likes  97 non-null     int64  \n",
            "dtypes: float64(3), int64(3), object(7)\n",
            "memory usage: 10.0+ KB\n"
          ]
        }
      ],
      "source": [
        "imdb.info()"
      ]
    },
    {
      "cell_type": "code",
      "execution_count": 324,
      "metadata": {
        "id": "x0a_-cY3aC6e",
        "colab": {
          "base_uri": "https://localhost:8080/",
          "height": 458
        },
        "outputId": "d90abb16-2b80-4cc9-a27d-4a108098c575"
      },
      "outputs": [
        {
          "output_type": "execute_result",
          "data": {
            "text/plain": [
              "    color     director_name  duration        gross  \\\n",
              "92  Color     Steve McQueen       134   56667870.0   \n",
              "93  Color  Richard J. Lewis       134    7501404.0   \n",
              "94  Color   Paul Greengrass       134  107100855.0   \n",
              "95  Color        David Ayer       134   85707116.0   \n",
              "96  Color    Clint Eastwood         5   47034272.0   \n",
              "\n",
              "                           genres       movie_title  title_year language  \\\n",
              "92        Biography|Drama|History  12 Years a Slave        2013  English   \n",
              "93                   Comedy|Drama  Barney's Version        2010  English   \n",
              "94       Biography|Drama|Thriller  Captain Phillips        2013  English   \n",
              "95               Action|Drama|War              Fury        2014  English   \n",
              "96  Biography|Drama|Music|Musical       Jersey Boys        2014  English   \n",
              "\n",
              "   country      budget  imdb_score  \\\n",
              "92     USA  20000000.0         8.1   \n",
              "93  Canada         NaN         7.3   \n",
              "94     USA  55000000.0         7.9   \n",
              "95     USA  68000000.0         7.6   \n",
              "96     USA  40000000.0         6.9   \n",
              "\n",
              "                                           actors  movie_facebook_likes  \n",
              "92   Quvenzhané Wallis,Scoot McNairy,Taran Killam                 83000  \n",
              "93               Mark Addy,Atom Egoyan,Paul Gross                     0  \n",
              "94         Tom Hanks,Chris Mulkey,Michael Chernus                 65000  \n",
              "95             Brad Pitt,Logan Lerman,Jim Parrack                 82000  \n",
              "96  Johnny Cannizzaro,Steve Schirripa,Scott Vance                 16000  "
            ],
            "text/html": [
              "\n",
              "  <div id=\"df-a2407c18-bb52-405f-b2ee-81f29f8401c5\">\n",
              "    <div class=\"colab-df-container\">\n",
              "      <div>\n",
              "<style scoped>\n",
              "    .dataframe tbody tr th:only-of-type {\n",
              "        vertical-align: middle;\n",
              "    }\n",
              "\n",
              "    .dataframe tbody tr th {\n",
              "        vertical-align: top;\n",
              "    }\n",
              "\n",
              "    .dataframe thead th {\n",
              "        text-align: right;\n",
              "    }\n",
              "</style>\n",
              "<table border=\"1\" class=\"dataframe\">\n",
              "  <thead>\n",
              "    <tr style=\"text-align: right;\">\n",
              "      <th></th>\n",
              "      <th>color</th>\n",
              "      <th>director_name</th>\n",
              "      <th>duration</th>\n",
              "      <th>gross</th>\n",
              "      <th>genres</th>\n",
              "      <th>movie_title</th>\n",
              "      <th>title_year</th>\n",
              "      <th>language</th>\n",
              "      <th>country</th>\n",
              "      <th>budget</th>\n",
              "      <th>imdb_score</th>\n",
              "      <th>actors</th>\n",
              "      <th>movie_facebook_likes</th>\n",
              "    </tr>\n",
              "  </thead>\n",
              "  <tbody>\n",
              "    <tr>\n",
              "      <th>92</th>\n",
              "      <td>Color</td>\n",
              "      <td>Steve McQueen</td>\n",
              "      <td>134</td>\n",
              "      <td>56667870.0</td>\n",
              "      <td>Biography|Drama|History</td>\n",
              "      <td>12 Years a Slave</td>\n",
              "      <td>2013</td>\n",
              "      <td>English</td>\n",
              "      <td>USA</td>\n",
              "      <td>20000000.0</td>\n",
              "      <td>8.1</td>\n",
              "      <td>Quvenzhané Wallis,Scoot McNairy,Taran Killam</td>\n",
              "      <td>83000</td>\n",
              "    </tr>\n",
              "    <tr>\n",
              "      <th>93</th>\n",
              "      <td>Color</td>\n",
              "      <td>Richard J. Lewis</td>\n",
              "      <td>134</td>\n",
              "      <td>7501404.0</td>\n",
              "      <td>Comedy|Drama</td>\n",
              "      <td>Barney's Version</td>\n",
              "      <td>2010</td>\n",
              "      <td>English</td>\n",
              "      <td>Canada</td>\n",
              "      <td>NaN</td>\n",
              "      <td>7.3</td>\n",
              "      <td>Mark Addy,Atom Egoyan,Paul Gross</td>\n",
              "      <td>0</td>\n",
              "    </tr>\n",
              "    <tr>\n",
              "      <th>94</th>\n",
              "      <td>Color</td>\n",
              "      <td>Paul Greengrass</td>\n",
              "      <td>134</td>\n",
              "      <td>107100855.0</td>\n",
              "      <td>Biography|Drama|Thriller</td>\n",
              "      <td>Captain Phillips</td>\n",
              "      <td>2013</td>\n",
              "      <td>English</td>\n",
              "      <td>USA</td>\n",
              "      <td>55000000.0</td>\n",
              "      <td>7.9</td>\n",
              "      <td>Tom Hanks,Chris Mulkey,Michael Chernus</td>\n",
              "      <td>65000</td>\n",
              "    </tr>\n",
              "    <tr>\n",
              "      <th>95</th>\n",
              "      <td>Color</td>\n",
              "      <td>David Ayer</td>\n",
              "      <td>134</td>\n",
              "      <td>85707116.0</td>\n",
              "      <td>Action|Drama|War</td>\n",
              "      <td>Fury</td>\n",
              "      <td>2014</td>\n",
              "      <td>English</td>\n",
              "      <td>USA</td>\n",
              "      <td>68000000.0</td>\n",
              "      <td>7.6</td>\n",
              "      <td>Brad Pitt,Logan Lerman,Jim Parrack</td>\n",
              "      <td>82000</td>\n",
              "    </tr>\n",
              "    <tr>\n",
              "      <th>96</th>\n",
              "      <td>Color</td>\n",
              "      <td>Clint Eastwood</td>\n",
              "      <td>5</td>\n",
              "      <td>47034272.0</td>\n",
              "      <td>Biography|Drama|Music|Musical</td>\n",
              "      <td>Jersey Boys</td>\n",
              "      <td>2014</td>\n",
              "      <td>English</td>\n",
              "      <td>USA</td>\n",
              "      <td>40000000.0</td>\n",
              "      <td>6.9</td>\n",
              "      <td>Johnny Cannizzaro,Steve Schirripa,Scott Vance</td>\n",
              "      <td>16000</td>\n",
              "    </tr>\n",
              "  </tbody>\n",
              "</table>\n",
              "</div>\n",
              "      <button class=\"colab-df-convert\" onclick=\"convertToInteractive('df-a2407c18-bb52-405f-b2ee-81f29f8401c5')\"\n",
              "              title=\"Convert this dataframe to an interactive table.\"\n",
              "              style=\"display:none;\">\n",
              "        \n",
              "  <svg xmlns=\"http://www.w3.org/2000/svg\" height=\"24px\"viewBox=\"0 0 24 24\"\n",
              "       width=\"24px\">\n",
              "    <path d=\"M0 0h24v24H0V0z\" fill=\"none\"/>\n",
              "    <path d=\"M18.56 5.44l.94 2.06.94-2.06 2.06-.94-2.06-.94-.94-2.06-.94 2.06-2.06.94zm-11 1L8.5 8.5l.94-2.06 2.06-.94-2.06-.94L8.5 2.5l-.94 2.06-2.06.94zm10 10l.94 2.06.94-2.06 2.06-.94-2.06-.94-.94-2.06-.94 2.06-2.06.94z\"/><path d=\"M17.41 7.96l-1.37-1.37c-.4-.4-.92-.59-1.43-.59-.52 0-1.04.2-1.43.59L10.3 9.45l-7.72 7.72c-.78.78-.78 2.05 0 2.83L4 21.41c.39.39.9.59 1.41.59.51 0 1.02-.2 1.41-.59l7.78-7.78 2.81-2.81c.8-.78.8-2.07 0-2.86zM5.41 20L4 18.59l7.72-7.72 1.47 1.35L5.41 20z\"/>\n",
              "  </svg>\n",
              "      </button>\n",
              "      \n",
              "  <style>\n",
              "    .colab-df-container {\n",
              "      display:flex;\n",
              "      flex-wrap:wrap;\n",
              "      gap: 12px;\n",
              "    }\n",
              "\n",
              "    .colab-df-convert {\n",
              "      background-color: #E8F0FE;\n",
              "      border: none;\n",
              "      border-radius: 50%;\n",
              "      cursor: pointer;\n",
              "      display: none;\n",
              "      fill: #1967D2;\n",
              "      height: 32px;\n",
              "      padding: 0 0 0 0;\n",
              "      width: 32px;\n",
              "    }\n",
              "\n",
              "    .colab-df-convert:hover {\n",
              "      background-color: #E2EBFA;\n",
              "      box-shadow: 0px 1px 2px rgba(60, 64, 67, 0.3), 0px 1px 3px 1px rgba(60, 64, 67, 0.15);\n",
              "      fill: #174EA6;\n",
              "    }\n",
              "\n",
              "    [theme=dark] .colab-df-convert {\n",
              "      background-color: #3B4455;\n",
              "      fill: #D2E3FC;\n",
              "    }\n",
              "\n",
              "    [theme=dark] .colab-df-convert:hover {\n",
              "      background-color: #434B5C;\n",
              "      box-shadow: 0px 1px 3px 1px rgba(0, 0, 0, 0.15);\n",
              "      filter: drop-shadow(0px 1px 2px rgba(0, 0, 0, 0.3));\n",
              "      fill: #FFFFFF;\n",
              "    }\n",
              "  </style>\n",
              "\n",
              "      <script>\n",
              "        const buttonEl =\n",
              "          document.querySelector('#df-a2407c18-bb52-405f-b2ee-81f29f8401c5 button.colab-df-convert');\n",
              "        buttonEl.style.display =\n",
              "          google.colab.kernel.accessAllowed ? 'block' : 'none';\n",
              "\n",
              "        async function convertToInteractive(key) {\n",
              "          const element = document.querySelector('#df-a2407c18-bb52-405f-b2ee-81f29f8401c5');\n",
              "          const dataTable =\n",
              "            await google.colab.kernel.invokeFunction('convertToInteractive',\n",
              "                                                     [key], {});\n",
              "          if (!dataTable) return;\n",
              "\n",
              "          const docLinkHtml = 'Like what you see? Visit the ' +\n",
              "            '<a target=\"_blank\" href=https://colab.research.google.com/notebooks/data_table.ipynb>data table notebook</a>'\n",
              "            + ' to learn more about interactive tables.';\n",
              "          element.innerHTML = '';\n",
              "          dataTable['output_type'] = 'display_data';\n",
              "          await google.colab.output.renderOutput(dataTable, element);\n",
              "          const docLink = document.createElement('div');\n",
              "          docLink.innerHTML = docLinkHtml;\n",
              "          element.appendChild(docLink);\n",
              "        }\n",
              "      </script>\n",
              "    </div>\n",
              "  </div>\n",
              "  "
            ]
          },
          "metadata": {},
          "execution_count": 324
        }
      ],
      "source": [
        "imdb.tail()"
      ]
    },
    {
      "cell_type": "code",
      "execution_count": 325,
      "metadata": {
        "id": "WadlSD4vaC93",
        "colab": {
          "base_uri": "https://localhost:8080/"
        },
        "outputId": "dd3aafa3-55a1-4080-fb7c-8403ac098993"
      },
      "outputs": [
        {
          "output_type": "execute_result",
          "data": {
            "text/plain": [
              "97"
            ]
          },
          "metadata": {},
          "execution_count": 325
        }
      ],
      "source": [
        "imdb.shape[0]"
      ]
    },
    {
      "cell_type": "code",
      "execution_count": 326,
      "metadata": {
        "id": "HBJ-43c3aDBB",
        "colab": {
          "base_uri": "https://localhost:8080/"
        },
        "outputId": "a5d6e56c-a1bf-4604-e56a-98a55f19978c"
      },
      "outputs": [
        {
          "output_type": "execute_result",
          "data": {
            "text/plain": [
              "13"
            ]
          },
          "metadata": {},
          "execution_count": 326
        }
      ],
      "source": [
        "imdb.shape[1]"
      ]
    },
    {
      "cell_type": "code",
      "execution_count": 327,
      "metadata": {
        "id": "CxJ4AP1YZixu",
        "colab": {
          "base_uri": "https://localhost:8080/",
          "height": 300
        },
        "outputId": "9f0154f4-fa2e-4db2-8e94-cf7a3cc76540"
      },
      "outputs": [
        {
          "output_type": "execute_result",
          "data": {
            "text/plain": [
              "         duration         gross   title_year        budget  imdb_score  \\\n",
              "count   97.000000  8.900000e+01    97.000000  9.300000e+01   97.000000   \n",
              "mean   155.515464  1.539379e+08  1975.690722  1.049830e+08    6.871134   \n",
              "std     73.550452  1.412026e+08   258.477165  7.784829e+07    1.939231   \n",
              "min    -50.000000  4.122900e+04   202.000000  1.735000e+04   -7.500000   \n",
              "25%    138.000000  4.710508e+07  2012.000000  4.000000e+07    6.500000   \n",
              "50%    143.000000  1.156040e+08  2013.000000  7.800000e+07    7.200000   \n",
              "75%    154.000000  2.410639e+08  2014.000000  1.780000e+08    7.800000   \n",
              "max    650.000000  6.232795e+08  2016.000000  2.500000e+08    8.800000   \n",
              "\n",
              "       movie_facebook_likes  \n",
              "count             97.000000  \n",
              "mean           65273.453608  \n",
              "std            58018.198425  \n",
              "min                0.000000  \n",
              "25%            24000.000000  \n",
              "50%            54000.000000  \n",
              "75%            85000.000000  \n",
              "max           349000.000000  "
            ],
            "text/html": [
              "\n",
              "  <div id=\"df-06d95909-7435-4aec-a1bf-348167207f9f\">\n",
              "    <div class=\"colab-df-container\">\n",
              "      <div>\n",
              "<style scoped>\n",
              "    .dataframe tbody tr th:only-of-type {\n",
              "        vertical-align: middle;\n",
              "    }\n",
              "\n",
              "    .dataframe tbody tr th {\n",
              "        vertical-align: top;\n",
              "    }\n",
              "\n",
              "    .dataframe thead th {\n",
              "        text-align: right;\n",
              "    }\n",
              "</style>\n",
              "<table border=\"1\" class=\"dataframe\">\n",
              "  <thead>\n",
              "    <tr style=\"text-align: right;\">\n",
              "      <th></th>\n",
              "      <th>duration</th>\n",
              "      <th>gross</th>\n",
              "      <th>title_year</th>\n",
              "      <th>budget</th>\n",
              "      <th>imdb_score</th>\n",
              "      <th>movie_facebook_likes</th>\n",
              "    </tr>\n",
              "  </thead>\n",
              "  <tbody>\n",
              "    <tr>\n",
              "      <th>count</th>\n",
              "      <td>97.000000</td>\n",
              "      <td>8.900000e+01</td>\n",
              "      <td>97.000000</td>\n",
              "      <td>9.300000e+01</td>\n",
              "      <td>97.000000</td>\n",
              "      <td>97.000000</td>\n",
              "    </tr>\n",
              "    <tr>\n",
              "      <th>mean</th>\n",
              "      <td>155.515464</td>\n",
              "      <td>1.539379e+08</td>\n",
              "      <td>1975.690722</td>\n",
              "      <td>1.049830e+08</td>\n",
              "      <td>6.871134</td>\n",
              "      <td>65273.453608</td>\n",
              "    </tr>\n",
              "    <tr>\n",
              "      <th>std</th>\n",
              "      <td>73.550452</td>\n",
              "      <td>1.412026e+08</td>\n",
              "      <td>258.477165</td>\n",
              "      <td>7.784829e+07</td>\n",
              "      <td>1.939231</td>\n",
              "      <td>58018.198425</td>\n",
              "    </tr>\n",
              "    <tr>\n",
              "      <th>min</th>\n",
              "      <td>-50.000000</td>\n",
              "      <td>4.122900e+04</td>\n",
              "      <td>202.000000</td>\n",
              "      <td>1.735000e+04</td>\n",
              "      <td>-7.500000</td>\n",
              "      <td>0.000000</td>\n",
              "    </tr>\n",
              "    <tr>\n",
              "      <th>25%</th>\n",
              "      <td>138.000000</td>\n",
              "      <td>4.710508e+07</td>\n",
              "      <td>2012.000000</td>\n",
              "      <td>4.000000e+07</td>\n",
              "      <td>6.500000</td>\n",
              "      <td>24000.000000</td>\n",
              "    </tr>\n",
              "    <tr>\n",
              "      <th>50%</th>\n",
              "      <td>143.000000</td>\n",
              "      <td>1.156040e+08</td>\n",
              "      <td>2013.000000</td>\n",
              "      <td>7.800000e+07</td>\n",
              "      <td>7.200000</td>\n",
              "      <td>54000.000000</td>\n",
              "    </tr>\n",
              "    <tr>\n",
              "      <th>75%</th>\n",
              "      <td>154.000000</td>\n",
              "      <td>2.410639e+08</td>\n",
              "      <td>2014.000000</td>\n",
              "      <td>1.780000e+08</td>\n",
              "      <td>7.800000</td>\n",
              "      <td>85000.000000</td>\n",
              "    </tr>\n",
              "    <tr>\n",
              "      <th>max</th>\n",
              "      <td>650.000000</td>\n",
              "      <td>6.232795e+08</td>\n",
              "      <td>2016.000000</td>\n",
              "      <td>2.500000e+08</td>\n",
              "      <td>8.800000</td>\n",
              "      <td>349000.000000</td>\n",
              "    </tr>\n",
              "  </tbody>\n",
              "</table>\n",
              "</div>\n",
              "      <button class=\"colab-df-convert\" onclick=\"convertToInteractive('df-06d95909-7435-4aec-a1bf-348167207f9f')\"\n",
              "              title=\"Convert this dataframe to an interactive table.\"\n",
              "              style=\"display:none;\">\n",
              "        \n",
              "  <svg xmlns=\"http://www.w3.org/2000/svg\" height=\"24px\"viewBox=\"0 0 24 24\"\n",
              "       width=\"24px\">\n",
              "    <path d=\"M0 0h24v24H0V0z\" fill=\"none\"/>\n",
              "    <path d=\"M18.56 5.44l.94 2.06.94-2.06 2.06-.94-2.06-.94-.94-2.06-.94 2.06-2.06.94zm-11 1L8.5 8.5l.94-2.06 2.06-.94-2.06-.94L8.5 2.5l-.94 2.06-2.06.94zm10 10l.94 2.06.94-2.06 2.06-.94-2.06-.94-.94-2.06-.94 2.06-2.06.94z\"/><path d=\"M17.41 7.96l-1.37-1.37c-.4-.4-.92-.59-1.43-.59-.52 0-1.04.2-1.43.59L10.3 9.45l-7.72 7.72c-.78.78-.78 2.05 0 2.83L4 21.41c.39.39.9.59 1.41.59.51 0 1.02-.2 1.41-.59l7.78-7.78 2.81-2.81c.8-.78.8-2.07 0-2.86zM5.41 20L4 18.59l7.72-7.72 1.47 1.35L5.41 20z\"/>\n",
              "  </svg>\n",
              "      </button>\n",
              "      \n",
              "  <style>\n",
              "    .colab-df-container {\n",
              "      display:flex;\n",
              "      flex-wrap:wrap;\n",
              "      gap: 12px;\n",
              "    }\n",
              "\n",
              "    .colab-df-convert {\n",
              "      background-color: #E8F0FE;\n",
              "      border: none;\n",
              "      border-radius: 50%;\n",
              "      cursor: pointer;\n",
              "      display: none;\n",
              "      fill: #1967D2;\n",
              "      height: 32px;\n",
              "      padding: 0 0 0 0;\n",
              "      width: 32px;\n",
              "    }\n",
              "\n",
              "    .colab-df-convert:hover {\n",
              "      background-color: #E2EBFA;\n",
              "      box-shadow: 0px 1px 2px rgba(60, 64, 67, 0.3), 0px 1px 3px 1px rgba(60, 64, 67, 0.15);\n",
              "      fill: #174EA6;\n",
              "    }\n",
              "\n",
              "    [theme=dark] .colab-df-convert {\n",
              "      background-color: #3B4455;\n",
              "      fill: #D2E3FC;\n",
              "    }\n",
              "\n",
              "    [theme=dark] .colab-df-convert:hover {\n",
              "      background-color: #434B5C;\n",
              "      box-shadow: 0px 1px 3px 1px rgba(0, 0, 0, 0.15);\n",
              "      filter: drop-shadow(0px 1px 2px rgba(0, 0, 0, 0.3));\n",
              "      fill: #FFFFFF;\n",
              "    }\n",
              "  </style>\n",
              "\n",
              "      <script>\n",
              "        const buttonEl =\n",
              "          document.querySelector('#df-06d95909-7435-4aec-a1bf-348167207f9f button.colab-df-convert');\n",
              "        buttonEl.style.display =\n",
              "          google.colab.kernel.accessAllowed ? 'block' : 'none';\n",
              "\n",
              "        async function convertToInteractive(key) {\n",
              "          const element = document.querySelector('#df-06d95909-7435-4aec-a1bf-348167207f9f');\n",
              "          const dataTable =\n",
              "            await google.colab.kernel.invokeFunction('convertToInteractive',\n",
              "                                                     [key], {});\n",
              "          if (!dataTable) return;\n",
              "\n",
              "          const docLinkHtml = 'Like what you see? Visit the ' +\n",
              "            '<a target=\"_blank\" href=https://colab.research.google.com/notebooks/data_table.ipynb>data table notebook</a>'\n",
              "            + ' to learn more about interactive tables.';\n",
              "          element.innerHTML = '';\n",
              "          dataTable['output_type'] = 'display_data';\n",
              "          await google.colab.output.renderOutput(dataTable, element);\n",
              "          const docLink = document.createElement('div');\n",
              "          docLink.innerHTML = docLinkHtml;\n",
              "          element.appendChild(docLink);\n",
              "        }\n",
              "      </script>\n",
              "    </div>\n",
              "  </div>\n",
              "  "
            ]
          },
          "metadata": {},
          "execution_count": 327
        }
      ],
      "source": [
        "imdb.describe()"
      ]
    },
    {
      "cell_type": "code",
      "execution_count": 328,
      "metadata": {
        "colab": {
          "base_uri": "https://localhost:8080/"
        },
        "id": "taNJUq30eI7i",
        "outputId": "9f8a599c-cf1c-41e8-cc05-1b4d64c401b8"
      },
      "outputs": [
        {
          "output_type": "execute_result",
          "data": {
            "text/plain": [
              "0     False\n",
              "1     False\n",
              "2     False\n",
              "3     False\n",
              "4     False\n",
              "      ...  \n",
              "92    False\n",
              "93    False\n",
              "94    False\n",
              "95    False\n",
              "96    False\n",
              "Length: 97, dtype: bool"
            ]
          },
          "metadata": {},
          "execution_count": 328
        }
      ],
      "source": [
        "imdb.duplicated()"
      ]
    },
    {
      "cell_type": "code",
      "execution_count": 329,
      "metadata": {
        "id": "NMKImSq_eI_h",
        "colab": {
          "base_uri": "https://localhost:8080/"
        },
        "outputId": "4498a81d-a931-4e54-e7b3-858bd3d9a250"
      },
      "outputs": [
        {
          "output_type": "execute_result",
          "data": {
            "text/plain": [
              "<bound method DataFrame.count of     color      director_name  duration        gross  \\\n",
              "9   Color        Joss Whedon       173  623279547.0   \n",
              "20  Color         Tom Hooper       158  148775460.0   \n",
              "29  Color       Ridley Scott       150   65007045.0   \n",
              "51  Color         Sam Mendes       143  304360277.0   \n",
              "53  Color       Baz Luhrmann       143  144812796.0   \n",
              "61  Color  Timur Bekmambetov       141          NaN   \n",
              "\n",
              "                       genres             movie_title  title_year language  \\\n",
              "9     Action|Adventure|Sci-Fi            The Avengers        2012  English   \n",
              "20      Drama|Musical|Romance          Les Misérables        2012  English   \n",
              "29     Action|Adventure|Drama  Exodus: Gods and Kings        2014  English   \n",
              "51  Action|Adventure|Thriller                 Skyfall        2012  English   \n",
              "53              Drama|Romance        The Great Gatsby        2013  English   \n",
              "61    Adventure|Drama|History                 Ben-Hur        2016  English   \n",
              "\n",
              "      country       budget  imdb_score  \\\n",
              "9         USA  220000000.0         8.1   \n",
              "20        USA   61000000.0         7.6   \n",
              "29         UK  140000000.0         6.1   \n",
              "51         UK  200000000.0         7.8   \n",
              "53  Australia  105000000.0         7.3   \n",
              "61        USA  100000000.0         6.1   \n",
              "\n",
              "                                               actors  movie_facebook_likes  \n",
              "9   Chris Hemsworth,Robert Downey Jr.,Scarlett Joh...                123000  \n",
              "20          Hugh Jackman,Eddie Redmayne,Anne Hathaway                144000  \n",
              "29       Christian Bale,María Valverde,Ben Mendelsohn                 51000  \n",
              "51           Albert Finney,Helen McCrory,Rory Kinnear                 80000  \n",
              "53   Leonardo DiCaprio,Elizabeth Debicki,Steve Bisley                115000  \n",
              "61           Morgan Freeman,Ayelet Zurer,Moises Arias                     0  >"
            ]
          },
          "metadata": {},
          "execution_count": 329
        }
      ],
      "source": [
        "imdb[imdb.duplicated()].count"
      ]
    },
    {
      "cell_type": "code",
      "execution_count": 330,
      "metadata": {
        "id": "mOSwYa3CeJCV"
      },
      "outputs": [],
      "source": [
        "imdb2 = imdb.copy()"
      ]
    },
    {
      "cell_type": "code",
      "execution_count": 331,
      "metadata": {
        "id": "dJryvgOIeJFU"
      },
      "outputs": [],
      "source": [
        "imdb2.drop_duplicates(inplace=True)"
      ]
    },
    {
      "cell_type": "code",
      "execution_count": 332,
      "metadata": {
        "colab": {
          "base_uri": "https://localhost:8080/"
        },
        "id": "dgCMOviFeJJL",
        "outputId": "b5124965-6342-4513-e5a2-e7a27390db5a"
      },
      "outputs": [
        {
          "output_type": "execute_result",
          "data": {
            "text/plain": [
              "91"
            ]
          },
          "metadata": {},
          "execution_count": 332
        }
      ],
      "source": [
        "len(imdb2)"
      ]
    },
    {
      "cell_type": "code",
      "execution_count": 333,
      "metadata": {
        "colab": {
          "base_uri": "https://localhost:8080/"
        },
        "id": "u7SuCgdNeJNE",
        "outputId": "8d7bddc0-d504-40ed-9d82-37e718c257e2"
      },
      "outputs": [
        {
          "output_type": "execute_result",
          "data": {
            "text/plain": [
              "color                   11\n",
              "director_name           11\n",
              "duration                 0\n",
              "gross                    7\n",
              "genres                   1\n",
              "movie_title              0\n",
              "title_year               0\n",
              "language                 0\n",
              "country                  0\n",
              "budget                   4\n",
              "imdb_score               0\n",
              "actors                   0\n",
              "movie_facebook_likes     0\n",
              "dtype: int64"
            ]
          },
          "metadata": {},
          "execution_count": 333
        }
      ],
      "source": [
        "imdb2.isnull().sum()"
      ]
    },
    {
      "cell_type": "code",
      "execution_count": 334,
      "metadata": {
        "colab": {
          "base_uri": "https://localhost:8080/"
        },
        "id": "92jAzQnZmOUo",
        "outputId": "b3b2e8f7-6cd2-4a41-ace9-be07f0686826"
      },
      "outputs": [
        {
          "output_type": "execute_result",
          "data": {
            "text/plain": [
              "Color               78\n",
              "color                1\n",
              " Black and White     1\n",
              "Name: color, dtype: int64"
            ]
          },
          "metadata": {},
          "execution_count": 334
        }
      ],
      "source": [
        "imdb2[\"color\"].value_counts()"
      ]
    },
    {
      "cell_type": "code",
      "execution_count": 335,
      "metadata": {
        "id": "fsP_j2BKpFfV"
      },
      "outputs": [],
      "source": [
        "# voy a eliminar la columna color porque no es relevante "
      ]
    },
    {
      "cell_type": "code",
      "execution_count": 336,
      "metadata": {
        "colab": {
          "base_uri": "https://localhost:8080/"
        },
        "id": "LvZqM2bXqT-P",
        "outputId": "187722e8-89f7-4722-874c-51834851e87b"
      },
      "outputs": [
        {
          "output_type": "execute_result",
          "data": {
            "text/plain": [
              "Michael Bay          3\n",
              "Peter Jackson        3\n",
              "Christopher Nolan    3\n",
              "Ridley Scott         3\n",
              "Martin Scorsese      2\n",
              "                    ..\n",
              "Shane Black          1\n",
              "Adam McKay           1\n",
              "Zack Snyder          1\n",
              "Baz Luhrmann         1\n",
              "Clint Eastwood       1\n",
              "Name: director_name, Length: 61, dtype: int64"
            ]
          },
          "metadata": {},
          "execution_count": 336
        }
      ],
      "source": [
        "imdb2[\"director_name\"].value_counts()"
      ]
    },
    {
      "cell_type": "code",
      "execution_count": 337,
      "metadata": {
        "colab": {
          "base_uri": "https://localhost:8080/",
          "height": 961
        },
        "id": "3IfX84sPqseL",
        "outputId": "09094fb5-7208-4c64-a50d-75c78dd496f8"
      },
      "outputs": [
        {
          "output_type": "execute_result",
          "data": {
            "text/plain": [
              "    color director_name  duration        gross  \\\n",
              "5     NaN           NaN       183  330249062.0   \n",
              "23  Color           NaN       156  183635922.0   \n",
              "30  Color           NaN       150  182204440.0   \n",
              "39  Color           NaN       147  407197282.0   \n",
              "54    NaN           NaN       143          NaN   \n",
              "57  Color           NaN       142  407999255.0   \n",
              "69  Color           NaN       139  150832203.0   \n",
              "73  Color           NaN       138  150117807.0   \n",
              "80  Color           NaN       137   37304950.0   \n",
              "82  Color           NaN       137  281666058.0   \n",
              "89  Color           NaN       136   52474616.0   \n",
              "\n",
              "                              genres                            movie_title  \\\n",
              "5            Action|Adventure|Sci-Fi     Batman v Superman: Dawn of Justice   \n",
              "23  Adventure|Drama|Thriller|Western                           The Revenant   \n",
              "30       Biography|Drama|History|War                                Lincoln   \n",
              "39           Action|Adventure|Sci-Fi             Captain America: Civil War   \n",
              "54             Drama|Horror|Thriller                             The Ridges   \n",
              "57   Adventure|Drama|Sci-Fi|Thriller                       The Hunger Games   \n",
              "69          Adventure|Mystery|Sci-Fi                              Divergent   \n",
              "73                       Crime|Drama                        American Hustle   \n",
              "80             Biography|Crime|Drama                               J. Edgar   \n",
              "82                  Adventure|Sci-Fi  The Hunger Games: Mockingjay - Part 2   \n",
              "89                             Drama        Wall Street: Money Never Sleeps   \n",
              "\n",
              "    title_year language country       budget  imdb_score  \\\n",
              "5          202  English     USA  250000000.0         6.9   \n",
              "23        2015  English     USA  135000000.0         8.1   \n",
              "30        2012  English     USA   65000000.0         7.4   \n",
              "39        2016  English     USA  250000000.0         8.2   \n",
              "54        2011  English     USA      17350.0         3.0   \n",
              "57        2012  English     USA   78000000.0         7.3   \n",
              "69        2014  English     USA   85000000.0         6.7   \n",
              "73        2013  English     USA   40000000.0         7.3   \n",
              "80        2011  English     USA   35000000.0         6.6   \n",
              "82        2015  English     USA  160000000.0         6.6   \n",
              "89        2010  English     USA   70000000.0         6.3   \n",
              "\n",
              "                                               actors  movie_facebook_likes  \n",
              "5            Henry Cavill,Lauren Cohan,Alan D. Purwin                197000  \n",
              "23             Leonardo DiCaprio,Tom Hardy,Lukas Haas                190000  \n",
              "30     Joseph Gordon-Levitt,Hal Holbrook,Bruce McGill                 71000  \n",
              "39   Robert Downey Jr.,Scarlett Johansson,Chris Evans                 72000  \n",
              "54      Robbie Barnes,Alana Kaniewski,Brandon Landers                    33  \n",
              "57  Jennifer Lawrence,Josh Hutcherson,Anthony Reyn...                140000  \n",
              "69               Kate Winslet,Theo James,Mekhi Phifer                 49000  \n",
              "73    Jennifer Lawrence,Christian Bale,Bradley Cooper                 63000  \n",
              "80        Leonardo DiCaprio,Naomi Watts,Kaitlyn Dever                 16000  \n",
              "82  Jennifer Lawrence,Philip Seymour Hoffman,Josh ...                 38000  \n",
              "89  Frank Langella,Austin Pendleton,John Buffalo M...                 13000  "
            ],
            "text/html": [
              "\n",
              "  <div id=\"df-d7fe73c8-866e-406d-95d4-4104d277581a\">\n",
              "    <div class=\"colab-df-container\">\n",
              "      <div>\n",
              "<style scoped>\n",
              "    .dataframe tbody tr th:only-of-type {\n",
              "        vertical-align: middle;\n",
              "    }\n",
              "\n",
              "    .dataframe tbody tr th {\n",
              "        vertical-align: top;\n",
              "    }\n",
              "\n",
              "    .dataframe thead th {\n",
              "        text-align: right;\n",
              "    }\n",
              "</style>\n",
              "<table border=\"1\" class=\"dataframe\">\n",
              "  <thead>\n",
              "    <tr style=\"text-align: right;\">\n",
              "      <th></th>\n",
              "      <th>color</th>\n",
              "      <th>director_name</th>\n",
              "      <th>duration</th>\n",
              "      <th>gross</th>\n",
              "      <th>genres</th>\n",
              "      <th>movie_title</th>\n",
              "      <th>title_year</th>\n",
              "      <th>language</th>\n",
              "      <th>country</th>\n",
              "      <th>budget</th>\n",
              "      <th>imdb_score</th>\n",
              "      <th>actors</th>\n",
              "      <th>movie_facebook_likes</th>\n",
              "    </tr>\n",
              "  </thead>\n",
              "  <tbody>\n",
              "    <tr>\n",
              "      <th>5</th>\n",
              "      <td>NaN</td>\n",
              "      <td>NaN</td>\n",
              "      <td>183</td>\n",
              "      <td>330249062.0</td>\n",
              "      <td>Action|Adventure|Sci-Fi</td>\n",
              "      <td>Batman v Superman: Dawn of Justice</td>\n",
              "      <td>202</td>\n",
              "      <td>English</td>\n",
              "      <td>USA</td>\n",
              "      <td>250000000.0</td>\n",
              "      <td>6.9</td>\n",
              "      <td>Henry Cavill,Lauren Cohan,Alan D. Purwin</td>\n",
              "      <td>197000</td>\n",
              "    </tr>\n",
              "    <tr>\n",
              "      <th>23</th>\n",
              "      <td>Color</td>\n",
              "      <td>NaN</td>\n",
              "      <td>156</td>\n",
              "      <td>183635922.0</td>\n",
              "      <td>Adventure|Drama|Thriller|Western</td>\n",
              "      <td>The Revenant</td>\n",
              "      <td>2015</td>\n",
              "      <td>English</td>\n",
              "      <td>USA</td>\n",
              "      <td>135000000.0</td>\n",
              "      <td>8.1</td>\n",
              "      <td>Leonardo DiCaprio,Tom Hardy,Lukas Haas</td>\n",
              "      <td>190000</td>\n",
              "    </tr>\n",
              "    <tr>\n",
              "      <th>30</th>\n",
              "      <td>Color</td>\n",
              "      <td>NaN</td>\n",
              "      <td>150</td>\n",
              "      <td>182204440.0</td>\n",
              "      <td>Biography|Drama|History|War</td>\n",
              "      <td>Lincoln</td>\n",
              "      <td>2012</td>\n",
              "      <td>English</td>\n",
              "      <td>USA</td>\n",
              "      <td>65000000.0</td>\n",
              "      <td>7.4</td>\n",
              "      <td>Joseph Gordon-Levitt,Hal Holbrook,Bruce McGill</td>\n",
              "      <td>71000</td>\n",
              "    </tr>\n",
              "    <tr>\n",
              "      <th>39</th>\n",
              "      <td>Color</td>\n",
              "      <td>NaN</td>\n",
              "      <td>147</td>\n",
              "      <td>407197282.0</td>\n",
              "      <td>Action|Adventure|Sci-Fi</td>\n",
              "      <td>Captain America: Civil War</td>\n",
              "      <td>2016</td>\n",
              "      <td>English</td>\n",
              "      <td>USA</td>\n",
              "      <td>250000000.0</td>\n",
              "      <td>8.2</td>\n",
              "      <td>Robert Downey Jr.,Scarlett Johansson,Chris Evans</td>\n",
              "      <td>72000</td>\n",
              "    </tr>\n",
              "    <tr>\n",
              "      <th>54</th>\n",
              "      <td>NaN</td>\n",
              "      <td>NaN</td>\n",
              "      <td>143</td>\n",
              "      <td>NaN</td>\n",
              "      <td>Drama|Horror|Thriller</td>\n",
              "      <td>The Ridges</td>\n",
              "      <td>2011</td>\n",
              "      <td>English</td>\n",
              "      <td>USA</td>\n",
              "      <td>17350.0</td>\n",
              "      <td>3.0</td>\n",
              "      <td>Robbie Barnes,Alana Kaniewski,Brandon Landers</td>\n",
              "      <td>33</td>\n",
              "    </tr>\n",
              "    <tr>\n",
              "      <th>57</th>\n",
              "      <td>Color</td>\n",
              "      <td>NaN</td>\n",
              "      <td>142</td>\n",
              "      <td>407999255.0</td>\n",
              "      <td>Adventure|Drama|Sci-Fi|Thriller</td>\n",
              "      <td>The Hunger Games</td>\n",
              "      <td>2012</td>\n",
              "      <td>English</td>\n",
              "      <td>USA</td>\n",
              "      <td>78000000.0</td>\n",
              "      <td>7.3</td>\n",
              "      <td>Jennifer Lawrence,Josh Hutcherson,Anthony Reyn...</td>\n",
              "      <td>140000</td>\n",
              "    </tr>\n",
              "    <tr>\n",
              "      <th>69</th>\n",
              "      <td>Color</td>\n",
              "      <td>NaN</td>\n",
              "      <td>139</td>\n",
              "      <td>150832203.0</td>\n",
              "      <td>Adventure|Mystery|Sci-Fi</td>\n",
              "      <td>Divergent</td>\n",
              "      <td>2014</td>\n",
              "      <td>English</td>\n",
              "      <td>USA</td>\n",
              "      <td>85000000.0</td>\n",
              "      <td>6.7</td>\n",
              "      <td>Kate Winslet,Theo James,Mekhi Phifer</td>\n",
              "      <td>49000</td>\n",
              "    </tr>\n",
              "    <tr>\n",
              "      <th>73</th>\n",
              "      <td>Color</td>\n",
              "      <td>NaN</td>\n",
              "      <td>138</td>\n",
              "      <td>150117807.0</td>\n",
              "      <td>Crime|Drama</td>\n",
              "      <td>American Hustle</td>\n",
              "      <td>2013</td>\n",
              "      <td>English</td>\n",
              "      <td>USA</td>\n",
              "      <td>40000000.0</td>\n",
              "      <td>7.3</td>\n",
              "      <td>Jennifer Lawrence,Christian Bale,Bradley Cooper</td>\n",
              "      <td>63000</td>\n",
              "    </tr>\n",
              "    <tr>\n",
              "      <th>80</th>\n",
              "      <td>Color</td>\n",
              "      <td>NaN</td>\n",
              "      <td>137</td>\n",
              "      <td>37304950.0</td>\n",
              "      <td>Biography|Crime|Drama</td>\n",
              "      <td>J. Edgar</td>\n",
              "      <td>2011</td>\n",
              "      <td>English</td>\n",
              "      <td>USA</td>\n",
              "      <td>35000000.0</td>\n",
              "      <td>6.6</td>\n",
              "      <td>Leonardo DiCaprio,Naomi Watts,Kaitlyn Dever</td>\n",
              "      <td>16000</td>\n",
              "    </tr>\n",
              "    <tr>\n",
              "      <th>82</th>\n",
              "      <td>Color</td>\n",
              "      <td>NaN</td>\n",
              "      <td>137</td>\n",
              "      <td>281666058.0</td>\n",
              "      <td>Adventure|Sci-Fi</td>\n",
              "      <td>The Hunger Games: Mockingjay - Part 2</td>\n",
              "      <td>2015</td>\n",
              "      <td>English</td>\n",
              "      <td>USA</td>\n",
              "      <td>160000000.0</td>\n",
              "      <td>6.6</td>\n",
              "      <td>Jennifer Lawrence,Philip Seymour Hoffman,Josh ...</td>\n",
              "      <td>38000</td>\n",
              "    </tr>\n",
              "    <tr>\n",
              "      <th>89</th>\n",
              "      <td>Color</td>\n",
              "      <td>NaN</td>\n",
              "      <td>136</td>\n",
              "      <td>52474616.0</td>\n",
              "      <td>Drama</td>\n",
              "      <td>Wall Street: Money Never Sleeps</td>\n",
              "      <td>2010</td>\n",
              "      <td>English</td>\n",
              "      <td>USA</td>\n",
              "      <td>70000000.0</td>\n",
              "      <td>6.3</td>\n",
              "      <td>Frank Langella,Austin Pendleton,John Buffalo M...</td>\n",
              "      <td>13000</td>\n",
              "    </tr>\n",
              "  </tbody>\n",
              "</table>\n",
              "</div>\n",
              "      <button class=\"colab-df-convert\" onclick=\"convertToInteractive('df-d7fe73c8-866e-406d-95d4-4104d277581a')\"\n",
              "              title=\"Convert this dataframe to an interactive table.\"\n",
              "              style=\"display:none;\">\n",
              "        \n",
              "  <svg xmlns=\"http://www.w3.org/2000/svg\" height=\"24px\"viewBox=\"0 0 24 24\"\n",
              "       width=\"24px\">\n",
              "    <path d=\"M0 0h24v24H0V0z\" fill=\"none\"/>\n",
              "    <path d=\"M18.56 5.44l.94 2.06.94-2.06 2.06-.94-2.06-.94-.94-2.06-.94 2.06-2.06.94zm-11 1L8.5 8.5l.94-2.06 2.06-.94-2.06-.94L8.5 2.5l-.94 2.06-2.06.94zm10 10l.94 2.06.94-2.06 2.06-.94-2.06-.94-.94-2.06-.94 2.06-2.06.94z\"/><path d=\"M17.41 7.96l-1.37-1.37c-.4-.4-.92-.59-1.43-.59-.52 0-1.04.2-1.43.59L10.3 9.45l-7.72 7.72c-.78.78-.78 2.05 0 2.83L4 21.41c.39.39.9.59 1.41.59.51 0 1.02-.2 1.41-.59l7.78-7.78 2.81-2.81c.8-.78.8-2.07 0-2.86zM5.41 20L4 18.59l7.72-7.72 1.47 1.35L5.41 20z\"/>\n",
              "  </svg>\n",
              "      </button>\n",
              "      \n",
              "  <style>\n",
              "    .colab-df-container {\n",
              "      display:flex;\n",
              "      flex-wrap:wrap;\n",
              "      gap: 12px;\n",
              "    }\n",
              "\n",
              "    .colab-df-convert {\n",
              "      background-color: #E8F0FE;\n",
              "      border: none;\n",
              "      border-radius: 50%;\n",
              "      cursor: pointer;\n",
              "      display: none;\n",
              "      fill: #1967D2;\n",
              "      height: 32px;\n",
              "      padding: 0 0 0 0;\n",
              "      width: 32px;\n",
              "    }\n",
              "\n",
              "    .colab-df-convert:hover {\n",
              "      background-color: #E2EBFA;\n",
              "      box-shadow: 0px 1px 2px rgba(60, 64, 67, 0.3), 0px 1px 3px 1px rgba(60, 64, 67, 0.15);\n",
              "      fill: #174EA6;\n",
              "    }\n",
              "\n",
              "    [theme=dark] .colab-df-convert {\n",
              "      background-color: #3B4455;\n",
              "      fill: #D2E3FC;\n",
              "    }\n",
              "\n",
              "    [theme=dark] .colab-df-convert:hover {\n",
              "      background-color: #434B5C;\n",
              "      box-shadow: 0px 1px 3px 1px rgba(0, 0, 0, 0.15);\n",
              "      filter: drop-shadow(0px 1px 2px rgba(0, 0, 0, 0.3));\n",
              "      fill: #FFFFFF;\n",
              "    }\n",
              "  </style>\n",
              "\n",
              "      <script>\n",
              "        const buttonEl =\n",
              "          document.querySelector('#df-d7fe73c8-866e-406d-95d4-4104d277581a button.colab-df-convert');\n",
              "        buttonEl.style.display =\n",
              "          google.colab.kernel.accessAllowed ? 'block' : 'none';\n",
              "\n",
              "        async function convertToInteractive(key) {\n",
              "          const element = document.querySelector('#df-d7fe73c8-866e-406d-95d4-4104d277581a');\n",
              "          const dataTable =\n",
              "            await google.colab.kernel.invokeFunction('convertToInteractive',\n",
              "                                                     [key], {});\n",
              "          if (!dataTable) return;\n",
              "\n",
              "          const docLinkHtml = 'Like what you see? Visit the ' +\n",
              "            '<a target=\"_blank\" href=https://colab.research.google.com/notebooks/data_table.ipynb>data table notebook</a>'\n",
              "            + ' to learn more about interactive tables.';\n",
              "          element.innerHTML = '';\n",
              "          dataTable['output_type'] = 'display_data';\n",
              "          await google.colab.output.renderOutput(dataTable, element);\n",
              "          const docLink = document.createElement('div');\n",
              "          docLink.innerHTML = docLinkHtml;\n",
              "          element.appendChild(docLink);\n",
              "        }\n",
              "      </script>\n",
              "    </div>\n",
              "  </div>\n",
              "  "
            ]
          },
          "metadata": {},
          "execution_count": 337
        }
      ],
      "source": [
        "imdb2[imdb2[\"director_name\"].isnull()]"
      ]
    },
    {
      "cell_type": "code",
      "execution_count": 338,
      "metadata": {
        "id": "asiqflbPqsjl"
      },
      "outputs": [],
      "source": [
        "#director name voy a manter los nulos , sin director"
      ]
    },
    {
      "cell_type": "code",
      "execution_count": 339,
      "metadata": {
        "id": "Sa6r67Psqsoe",
        "colab": {
          "base_uri": "https://localhost:8080/",
          "height": 296
        },
        "outputId": "4ac4b70a-66b1-4da4-fc50-c78c9fc352bb"
      },
      "outputs": [
        {
          "output_type": "execute_result",
          "data": {
            "text/plain": [
              "<matplotlib.axes._subplots.AxesSubplot at 0x7fe8fa642310>"
            ]
          },
          "metadata": {},
          "execution_count": 339
        },
        {
          "output_type": "display_data",
          "data": {
            "text/plain": [
              "<Figure size 432x288 with 1 Axes>"
            ],
            "image/png": "[encoded data removed]"
          },
          "metadata": {
            "needs_background": "light"
          }
        }
      ],
      "source": [
        "imdb2[\"gross\"].hist()"
      ]
    },
    {
      "cell_type": "code",
      "source": [
        "# para los null de gross voy hacer la media"
      ],
      "metadata": {
        "id": "Aw_Hv1jszdTG"
      },
      "execution_count": 340,
      "outputs": []
    },
    {
      "cell_type": "code",
      "execution_count": 341,
      "metadata": {
        "id": "oYWBLV_Jqss_",
        "colab": {
          "base_uri": "https://localhost:8080/"
        },
        "outputId": "a1cf6dd4-4885-46a1-d68d-b017b7aff684"
      },
      "outputs": [
        {
          "output_type": "execute_result",
          "data": {
            "text/plain": [
              "Action|Adventure|Sci-Fi                     9\n",
              "Drama                                       5\n",
              "Crime|Drama|Thriller                        5\n",
              "Biography|Drama|History                     4\n",
              "Adventure|Fantasy                           3\n",
              "Drama|Romance                               3\n",
              "Action|Adventure|Thriller                   3\n",
              "Action|Adventure|Fantasy                    2\n",
              "Crime|Drama|Mystery|Thriller                2\n",
              "Action|Adventure|Fantasy|Sci-Fi             2\n",
              "Action|Adventure|Sci-Fi|Thriller            2\n",
              "Action|Adventure|Drama                      2\n",
              "Adventure|Drama|History                     2\n",
              "Crime|Drama                                 2\n",
              "Drama|History|Thriller                      2\n",
              "Biography|Drama|Sport|War                   2\n",
              "Adventure|Drama                             1\n",
              "Action|Biography|Drama|History              1\n",
              "Action|Drama|War                            1\n",
              "Action|Crime|Thriller                       1\n",
              "Biography|Drama|Thriller                    1\n",
              "Drama|Sport                                 1\n",
              "Comedy|Drama                                1\n",
              "Adventure|Mystery|Sci-Fi                    1\n",
              "Action|Biography|Drama|History|War          1\n",
              "Biography|Drama|Music                       1\n",
              "Adventure|Sci-Fi                            1\n",
              "Comedy|Drama|Musical|Romance                1\n",
              "Drama|Fantasy                               1\n",
              "Drama|Thriller                              1\n",
              "Mystery|Thriller                            1\n",
              "Biography|Crime|Drama                       1\n",
              "Comedy|Western                              1\n",
              "Biography|Comedy|Crime|Drama                1\n",
              "Drama|War                                   1\n",
              "Adventure|Drama|Sci-Fi|Thriller             1\n",
              "Adventure|Drama|Thriller|Western            1\n",
              "Crime|Drama|Mystery|Thriller|Western        1\n",
              "Drama|Sci-Fi                                1\n",
              "Adventure|Drama|Sci-Fi                      1\n",
              "Biography|Crime|Drama|History|Music         1\n",
              "Drama|Western                               1\n",
              "Action|Thriller                             1\n",
              "Drama|Musical|Romance                       1\n",
              "Action|Adventure|Drama|History              1\n",
              "Biography|Drama|History|War                 1\n",
              "Drama|Horror|Thriller                       1\n",
              "Action|Adventure|Western                    1\n",
              "Action|Adventure|Fantasy|Sci-Fi|Thriller    1\n",
              "Action|Animation|Crime|Sci-Fi|Thriller      1\n",
              "Comedy|Crime|Drama|Mystery|Romance          1\n",
              "Comedy|Drama|Romance                        1\n",
              "Adventure|Sci-Fi|Thriller                   1\n",
              "Action|Drama|Thriller|War                   1\n",
              "Comedy                                      1\n",
              "Biography|Drama|Music|Musical               1\n",
              "Name: genres, dtype: int64"
            ]
          },
          "metadata": {},
          "execution_count": 341
        }
      ],
      "source": [
        "imdb2[\"genres\"].value_counts()"
      ]
    },
    {
      "cell_type": "code",
      "execution_count": 342,
      "metadata": {
        "id": "9AgrOdllqsxg",
        "colab": {
          "base_uri": "https://localhost:8080/",
          "height": 142
        },
        "outputId": "de495903-167a-4ffa-b7f9-96df5a0813b4"
      },
      "outputs": [
        {
          "output_type": "execute_result",
          "data": {
            "text/plain": [
              "    color        director_name  duration       gross genres movie_title  \\\n",
              "11  Color  Christopher Spencer       170  59696176.0    NaN  Son of God   \n",
              "\n",
              "    title_year language country      budget  imdb_score  \\\n",
              "11        2014  English     USA  22000000.0         5.6   \n",
              "\n",
              "                                      actors  movie_facebook_likes  \n",
              "11  Roma Downey,Amber Rose Revah,Darwin Shaw                 15000  "
            ],
            "text/html": [
              "\n",
              "  <div id=\"df-13d8a842-15b1-4891-96ef-a130aaf2e97c\">\n",
              "    <div class=\"colab-df-container\">\n",
              "      <div>\n",
              "<style scoped>\n",
              "    .dataframe tbody tr th:only-of-type {\n",
              "        vertical-align: middle;\n",
              "    }\n",
              "\n",
              "    .dataframe tbody tr th {\n",
              "        vertical-align: top;\n",
              "    }\n",
              "\n",
              "    .dataframe thead th {\n",
              "        text-align: right;\n",
              "    }\n",
              "</style>\n",
              "<table border=\"1\" class=\"dataframe\">\n",
              "  <thead>\n",
              "    <tr style=\"text-align: right;\">\n",
              "      <th></th>\n",
              "      <th>color</th>\n",
              "      <th>director_name</th>\n",
              "      <th>duration</th>\n",
              "      <th>gross</th>\n",
              "      <th>genres</th>\n",
              "      <th>movie_title</th>\n",
              "      <th>title_year</th>\n",
              "      <th>language</th>\n",
              "      <th>country</th>\n",
              "      <th>budget</th>\n",
              "      <th>imdb_score</th>\n",
              "      <th>actors</th>\n",
              "      <th>movie_facebook_likes</th>\n",
              "    </tr>\n",
              "  </thead>\n",
              "  <tbody>\n",
              "    <tr>\n",
              "      <th>11</th>\n",
              "      <td>Color</td>\n",
              "      <td>Christopher Spencer</td>\n",
              "      <td>170</td>\n",
              "      <td>59696176.0</td>\n",
              "      <td>NaN</td>\n",
              "      <td>Son of God</td>\n",
              "      <td>2014</td>\n",
              "      <td>English</td>\n",
              "      <td>USA</td>\n",
              "      <td>22000000.0</td>\n",
              "      <td>5.6</td>\n",
              "      <td>Roma Downey,Amber Rose Revah,Darwin Shaw</td>\n",
              "      <td>15000</td>\n",
              "    </tr>\n",
              "  </tbody>\n",
              "</table>\n",
              "</div>\n",
              "      <button class=\"colab-df-convert\" onclick=\"convertToInteractive('df-13d8a842-15b1-4891-96ef-a130aaf2e97c')\"\n",
              "              title=\"Convert this dataframe to an interactive table.\"\n",
              "              style=\"display:none;\">\n",
              "        \n",
              "  <svg xmlns=\"http://www.w3.org/2000/svg\" height=\"24px\"viewBox=\"0 0 24 24\"\n",
              "       width=\"24px\">\n",
              "    <path d=\"M0 0h24v24H0V0z\" fill=\"none\"/>\n",
              "    <path d=\"M18.56 5.44l.94 2.06.94-2.06 2.06-.94-2.06-.94-.94-2.06-.94 2.06-2.06.94zm-11 1L8.5 8.5l.94-2.06 2.06-.94-2.06-.94L8.5 2.5l-.94 2.06-2.06.94zm10 10l.94 2.06.94-2.06 2.06-.94-2.06-.94-.94-2.06-.94 2.06-2.06.94z\"/><path d=\"M17.41 7.96l-1.37-1.37c-.4-.4-.92-.59-1.43-.59-.52 0-1.04.2-1.43.59L10.3 9.45l-7.72 7.72c-.78.78-.78 2.05 0 2.83L4 21.41c.39.39.9.59 1.41.59.51 0 1.02-.2 1.41-.59l7.78-7.78 2.81-2.81c.8-.78.8-2.07 0-2.86zM5.41 20L4 18.59l7.72-7.72 1.47 1.35L5.41 20z\"/>\n",
              "  </svg>\n",
              "      </button>\n",
              "      \n",
              "  <style>\n",
              "    .colab-df-container {\n",
              "      display:flex;\n",
              "      flex-wrap:wrap;\n",
              "      gap: 12px;\n",
              "    }\n",
              "\n",
              "    .colab-df-convert {\n",
              "      background-color: #E8F0FE;\n",
              "      border: none;\n",
              "      border-radius: 50%;\n",
              "      cursor: pointer;\n",
              "      display: none;\n",
              "      fill: #1967D2;\n",
              "      height: 32px;\n",
              "      padding: 0 0 0 0;\n",
              "      width: 32px;\n",
              "    }\n",
              "\n",
              "    .colab-df-convert:hover {\n",
              "      background-color: #E2EBFA;\n",
              "      box-shadow: 0px 1px 2px rgba(60, 64, 67, 0.3), 0px 1px 3px 1px rgba(60, 64, 67, 0.15);\n",
              "      fill: #174EA6;\n",
              "    }\n",
              "\n",
              "    [theme=dark] .colab-df-convert {\n",
              "      background-color: #3B4455;\n",
              "      fill: #D2E3FC;\n",
              "    }\n",
              "\n",
              "    [theme=dark] .colab-df-convert:hover {\n",
              "      background-color: #434B5C;\n",
              "      box-shadow: 0px 1px 3px 1px rgba(0, 0, 0, 0.15);\n",
              "      filter: drop-shadow(0px 1px 2px rgba(0, 0, 0, 0.3));\n",
              "      fill: #FFFFFF;\n",
              "    }\n",
              "  </style>\n",
              "\n",
              "      <script>\n",
              "        const buttonEl =\n",
              "          document.querySelector('#df-13d8a842-15b1-4891-96ef-a130aaf2e97c button.colab-df-convert');\n",
              "        buttonEl.style.display =\n",
              "          google.colab.kernel.accessAllowed ? 'block' : 'none';\n",
              "\n",
              "        async function convertToInteractive(key) {\n",
              "          const element = document.querySelector('#df-13d8a842-15b1-4891-96ef-a130aaf2e97c');\n",
              "          const dataTable =\n",
              "            await google.colab.kernel.invokeFunction('convertToInteractive',\n",
              "                                                     [key], {});\n",
              "          if (!dataTable) return;\n",
              "\n",
              "          const docLinkHtml = 'Like what you see? Visit the ' +\n",
              "            '<a target=\"_blank\" href=https://colab.research.google.com/notebooks/data_table.ipynb>data table notebook</a>'\n",
              "            + ' to learn more about interactive tables.';\n",
              "          element.innerHTML = '';\n",
              "          dataTable['output_type'] = 'display_data';\n",
              "          await google.colab.output.renderOutput(dataTable, element);\n",
              "          const docLink = document.createElement('div');\n",
              "          docLink.innerHTML = docLinkHtml;\n",
              "          element.appendChild(docLink);\n",
              "        }\n",
              "      </script>\n",
              "    </div>\n",
              "  </div>\n",
              "  "
            ]
          },
          "metadata": {},
          "execution_count": 342
        }
      ],
      "source": [
        "imdb2[imdb2[\"genres\"].isnull()]"
      ]
    },
    {
      "cell_type": "code",
      "execution_count": 343,
      "metadata": {
        "id": "BZTT7XgHqs1i"
      },
      "outputs": [],
      "source": [
        "# voy a mantener genero null como sin genero"
      ]
    },
    {
      "cell_type": "code",
      "execution_count": 344,
      "metadata": {
        "id": "RWFVr0EVqs5j",
        "colab": {
          "base_uri": "https://localhost:8080/",
          "height": 288
        },
        "outputId": "1c2e6fe3-0ca8-4c4a-80b5-c5ca077c7470"
      },
      "outputs": [
        {
          "output_type": "execute_result",
          "data": {
            "text/plain": [
              "    color      director_name  duration      gross                   genres  \\\n",
              "7   Color        Edward Hall       180        NaN            Drama|Romance   \n",
              "26  Color  Gnana Rajasekaran       153        NaN  Biography|Drama|History   \n",
              "31  Color         Mike Leigh       150  3958500.0  Biography|Drama|History   \n",
              "93  Color   Richard J. Lewis       134  7501404.0             Comedy|Drama   \n",
              "\n",
              "         movie_title  title_year language country  budget  imdb_score  \\\n",
              "7           Restless        2012  English      UK     NaN         7.2   \n",
              "26         Ramanujan        2014  English   India     NaN         7.0   \n",
              "31        Mr. Turner        2014  English      UK     NaN         6.8   \n",
              "93  Barney's Version        2010  English  Canada     NaN         7.3   \n",
              "\n",
              "                                           actors  movie_facebook_likes  \n",
              "7   Rufus Sewell,Hayley Atwell,Charlotte Rampling                   434  \n",
              "26     Mani Bharathi,Michael Lieber,Kevin McGowan                    58  \n",
              "31        Lesley Manville,Ruth Sheen,Karl Johnson                     0  \n",
              "93               Mark Addy,Atom Egoyan,Paul Gross                     0  "
            ],
            "text/html": [
              "\n",
              "  <div id=\"df-e5a889ce-f9a4-4ddb-afa7-50859789b8f9\">\n",
              "    <div class=\"colab-df-container\">\n",
              "      <div>\n",
              "<style scoped>\n",
              "    .dataframe tbody tr th:only-of-type {\n",
              "        vertical-align: middle;\n",
              "    }\n",
              "\n",
              "    .dataframe tbody tr th {\n",
              "        vertical-align: top;\n",
              "    }\n",
              "\n",
              "    .dataframe thead th {\n",
              "        text-align: right;\n",
              "    }\n",
              "</style>\n",
              "<table border=\"1\" class=\"dataframe\">\n",
              "  <thead>\n",
              "    <tr style=\"text-align: right;\">\n",
              "      <th></th>\n",
              "      <th>color</th>\n",
              "      <th>director_name</th>\n",
              "      <th>duration</th>\n",
              "      <th>gross</th>\n",
              "      <th>genres</th>\n",
              "      <th>movie_title</th>\n",
              "      <th>title_year</th>\n",
              "      <th>language</th>\n",
              "      <th>country</th>\n",
              "      <th>budget</th>\n",
              "      <th>imdb_score</th>\n",
              "      <th>actors</th>\n",
              "      <th>movie_facebook_likes</th>\n",
              "    </tr>\n",
              "  </thead>\n",
              "  <tbody>\n",
              "    <tr>\n",
              "      <th>7</th>\n",
              "      <td>Color</td>\n",
              "      <td>Edward Hall</td>\n",
              "      <td>180</td>\n",
              "      <td>NaN</td>\n",
              "      <td>Drama|Romance</td>\n",
              "      <td>Restless</td>\n",
              "      <td>2012</td>\n",
              "      <td>English</td>\n",
              "      <td>UK</td>\n",
              "      <td>NaN</td>\n",
              "      <td>7.2</td>\n",
              "      <td>Rufus Sewell,Hayley Atwell,Charlotte Rampling</td>\n",
              "      <td>434</td>\n",
              "    </tr>\n",
              "    <tr>\n",
              "      <th>26</th>\n",
              "      <td>Color</td>\n",
              "      <td>Gnana Rajasekaran</td>\n",
              "      <td>153</td>\n",
              "      <td>NaN</td>\n",
              "      <td>Biography|Drama|History</td>\n",
              "      <td>Ramanujan</td>\n",
              "      <td>2014</td>\n",
              "      <td>English</td>\n",
              "      <td>India</td>\n",
              "      <td>NaN</td>\n",
              "      <td>7.0</td>\n",
              "      <td>Mani Bharathi,Michael Lieber,Kevin McGowan</td>\n",
              "      <td>58</td>\n",
              "    </tr>\n",
              "    <tr>\n",
              "      <th>31</th>\n",
              "      <td>Color</td>\n",
              "      <td>Mike Leigh</td>\n",
              "      <td>150</td>\n",
              "      <td>3958500.0</td>\n",
              "      <td>Biography|Drama|History</td>\n",
              "      <td>Mr. Turner</td>\n",
              "      <td>2014</td>\n",
              "      <td>English</td>\n",
              "      <td>UK</td>\n",
              "      <td>NaN</td>\n",
              "      <td>6.8</td>\n",
              "      <td>Lesley Manville,Ruth Sheen,Karl Johnson</td>\n",
              "      <td>0</td>\n",
              "    </tr>\n",
              "    <tr>\n",
              "      <th>93</th>\n",
              "      <td>Color</td>\n",
              "      <td>Richard J. Lewis</td>\n",
              "      <td>134</td>\n",
              "      <td>7501404.0</td>\n",
              "      <td>Comedy|Drama</td>\n",
              "      <td>Barney's Version</td>\n",
              "      <td>2010</td>\n",
              "      <td>English</td>\n",
              "      <td>Canada</td>\n",
              "      <td>NaN</td>\n",
              "      <td>7.3</td>\n",
              "      <td>Mark Addy,Atom Egoyan,Paul Gross</td>\n",
              "      <td>0</td>\n",
              "    </tr>\n",
              "  </tbody>\n",
              "</table>\n",
              "</div>\n",
              "      <button class=\"colab-df-convert\" onclick=\"convertToInteractive('df-e5a889ce-f9a4-4ddb-afa7-50859789b8f9')\"\n",
              "              title=\"Convert this dataframe to an interactive table.\"\n",
              "              style=\"display:none;\">\n",
              "        \n",
              "  <svg xmlns=\"http://www.w3.org/2000/svg\" height=\"24px\"viewBox=\"0 0 24 24\"\n",
              "       width=\"24px\">\n",
              "    <path d=\"M0 0h24v24H0V0z\" fill=\"none\"/>\n",
              "    <path d=\"M18.56 5.44l.94 2.06.94-2.06 2.06-.94-2.06-.94-.94-2.06-.94 2.06-2.06.94zm-11 1L8.5 8.5l.94-2.06 2.06-.94-2.06-.94L8.5 2.5l-.94 2.06-2.06.94zm10 10l.94 2.06.94-2.06 2.06-.94-2.06-.94-.94-2.06-.94 2.06-2.06.94z\"/><path d=\"M17.41 7.96l-1.37-1.37c-.4-.4-.92-.59-1.43-.59-.52 0-1.04.2-1.43.59L10.3 9.45l-7.72 7.72c-.78.78-.78 2.05 0 2.83L4 21.41c.39.39.9.59 1.41.59.51 0 1.02-.2 1.41-.59l7.78-7.78 2.81-2.81c.8-.78.8-2.07 0-2.86zM5.41 20L4 18.59l7.72-7.72 1.47 1.35L5.41 20z\"/>\n",
              "  </svg>\n",
              "      </button>\n",
              "      \n",
              "  <style>\n",
              "    .colab-df-container {\n",
              "      display:flex;\n",
              "      flex-wrap:wrap;\n",
              "      gap: 12px;\n",
              "    }\n",
              "\n",
              "    .colab-df-convert {\n",
              "      background-color: #E8F0FE;\n",
              "      border: none;\n",
              "      border-radius: 50%;\n",
              "      cursor: pointer;\n",
              "      display: none;\n",
              "      fill: #1967D2;\n",
              "      height: 32px;\n",
              "      padding: 0 0 0 0;\n",
              "      width: 32px;\n",
              "    }\n",
              "\n",
              "    .colab-df-convert:hover {\n",
              "      background-color: #E2EBFA;\n",
              "      box-shadow: 0px 1px 2px rgba(60, 64, 67, 0.3), 0px 1px 3px 1px rgba(60, 64, 67, 0.15);\n",
              "      fill: #174EA6;\n",
              "    }\n",
              "\n",
              "    [theme=dark] .colab-df-convert {\n",
              "      background-color: #3B4455;\n",
              "      fill: #D2E3FC;\n",
              "    }\n",
              "\n",
              "    [theme=dark] .colab-df-convert:hover {\n",
              "      background-color: #434B5C;\n",
              "      box-shadow: 0px 1px 3px 1px rgba(0, 0, 0, 0.15);\n",
              "      filter: drop-shadow(0px 1px 2px rgba(0, 0, 0, 0.3));\n",
              "      fill: #FFFFFF;\n",
              "    }\n",
              "  </style>\n",
              "\n",
              "      <script>\n",
              "        const buttonEl =\n",
              "          document.querySelector('#df-e5a889ce-f9a4-4ddb-afa7-50859789b8f9 button.colab-df-convert');\n",
              "        buttonEl.style.display =\n",
              "          google.colab.kernel.accessAllowed ? 'block' : 'none';\n",
              "\n",
              "        async function convertToInteractive(key) {\n",
              "          const element = document.querySelector('#df-e5a889ce-f9a4-4ddb-afa7-50859789b8f9');\n",
              "          const dataTable =\n",
              "            await google.colab.kernel.invokeFunction('convertToInteractive',\n",
              "                                                     [key], {});\n",
              "          if (!dataTable) return;\n",
              "\n",
              "          const docLinkHtml = 'Like what you see? Visit the ' +\n",
              "            '<a target=\"_blank\" href=https://colab.research.google.com/notebooks/data_table.ipynb>data table notebook</a>'\n",
              "            + ' to learn more about interactive tables.';\n",
              "          element.innerHTML = '';\n",
              "          dataTable['output_type'] = 'display_data';\n",
              "          await google.colab.output.renderOutput(dataTable, element);\n",
              "          const docLink = document.createElement('div');\n",
              "          docLink.innerHTML = docLinkHtml;\n",
              "          element.appendChild(docLink);\n",
              "        }\n",
              "      </script>\n",
              "    </div>\n",
              "  </div>\n",
              "  "
            ]
          },
          "metadata": {},
          "execution_count": 344
        }
      ],
      "source": [
        "imdb2[imdb2[\"budget\"].isnull()]"
      ]
    },
    {
      "cell_type": "code",
      "execution_count": 345,
      "metadata": {
        "id": "ZVctiAt0qUDN",
        "colab": {
          "base_uri": "https://localhost:8080/",
          "height": 331
        },
        "outputId": "8de0f8db-d08c-42c7-9feb-9f1dc81c4d6f"
      },
      "outputs": [
        {
          "output_type": "execute_result",
          "data": {
            "text/plain": [
              "array([[<matplotlib.axes._subplots.AxesSubplot object at 0x7fe8fa709110>]],\n",
              "      dtype=object)"
            ]
          },
          "metadata": {},
          "execution_count": 345
        },
        {
          "output_type": "display_data",
          "data": {
            "text/plain": [
              "<Figure size 432x288 with 1 Axes>"
            ],
            "image/png": "[encoded data removed]"
          },
          "metadata": {
            "needs_background": "light"
          }
        }
      ],
      "source": [
        "imdb2.hist([\"budget\"])"
      ]
    },
    {
      "cell_type": "code",
      "execution_count": 346,
      "metadata": {
        "id": "4NboqDzqqUH1"
      },
      "outputs": [],
      "source": [
        "# en budget voy a poner la mediana"
      ]
    },
    {
      "cell_type": "code",
      "execution_count": 347,
      "metadata": {
        "id": "x8OVuI1fqUNe"
      },
      "outputs": [],
      "source": [
        "imdb3 = imdb2.copy()"
      ]
    },
    {
      "cell_type": "code",
      "source": [
        "del(imdb3[\"color\"])"
      ],
      "metadata": {
        "id": "Ac-9GKqg7_av"
      },
      "execution_count": 348,
      "outputs": []
    },
    {
      "cell_type": "code",
      "source": [
        "imdb3.info()"
      ],
      "metadata": {
        "colab": {
          "base_uri": "https://localhost:8080/"
        },
        "id": "WpSMH9Ed7_ff",
        "outputId": "5d2650a9-742f-436f-a5d7-ab91881da3b3"
      },
      "execution_count": 349,
      "outputs": [
        {
          "output_type": "stream",
          "name": "stdout",
          "text": [
            "<class 'pandas.core.frame.DataFrame'>\n",
            "Int64Index: 91 entries, 0 to 96\n",
            "Data columns (total 12 columns):\n",
            " #   Column                Non-Null Count  Dtype  \n",
            "---  ------                --------------  -----  \n",
            " 0   director_name         80 non-null     object \n",
            " 1   duration              91 non-null     int64  \n",
            " 2   gross                 84 non-null     float64\n",
            " 3   genres                90 non-null     object \n",
            " 4   movie_title           91 non-null     object \n",
            " 5   title_year            91 non-null     int64  \n",
            " 6   language              91 non-null     object \n",
            " 7   country               91 non-null     object \n",
            " 8   budget                87 non-null     float64\n",
            " 9   imdb_score            91 non-null     float64\n",
            " 10  actors                91 non-null     object \n",
            " 11  movie_facebook_likes  91 non-null     int64  \n",
            "dtypes: float64(3), int64(3), object(6)\n",
            "memory usage: 9.2+ KB\n"
          ]
        }
      ]
    },
    {
      "cell_type": "code",
      "source": [
        "imdb3[\"director_name\"].fillna(\"sin director\",inplace=True)"
      ],
      "metadata": {
        "id": "k3IleQWg7_kJ"
      },
      "execution_count": 350,
      "outputs": []
    },
    {
      "cell_type": "code",
      "source": [
        "imdb3[\"director_name\"].value_counts()"
      ],
      "metadata": {
        "colab": {
          "base_uri": "https://localhost:8080/"
        },
        "id": "whokzPS37_o7",
        "outputId": "ebaa51ca-c9c8-44a4-b270-59a8f7c04ee8"
      },
      "execution_count": 351,
      "outputs": [
        {
          "output_type": "execute_result",
          "data": {
            "text/plain": [
              "sin director         11\n",
              "Michael Bay           3\n",
              "Peter Jackson         3\n",
              "Christopher Nolan     3\n",
              "Ridley Scott          3\n",
              "                     ..\n",
              "Shane Black           1\n",
              "Adam McKay            1\n",
              "Zack Snyder           1\n",
              "Baz Luhrmann          1\n",
              "Clint Eastwood        1\n",
              "Name: director_name, Length: 62, dtype: int64"
            ]
          },
          "metadata": {},
          "execution_count": 351
        }
      ]
    },
    {
      "cell_type": "code",
      "source": [
        "media_gross = imdb3[\"gross\"].mean()"
      ],
      "metadata": {
        "id": "4raO-KjO_QcG"
      },
      "execution_count": 352,
      "outputs": []
    },
    {
      "cell_type": "code",
      "source": [
        "imdb3[\"gross\"].fillna(media_gross,inplace=True)"
      ],
      "metadata": {
        "id": "mC9bdQuK_QgM"
      },
      "execution_count": 353,
      "outputs": []
    },
    {
      "cell_type": "code",
      "source": [
        "imdb3[\"genres\"].fillna(\"sin genres\",inplace=True)"
      ],
      "metadata": {
        "id": "kqp2uiGh_Qju"
      },
      "execution_count": 354,
      "outputs": []
    },
    {
      "cell_type": "code",
      "source": [
        "imdb3[\"budget\"]"
      ],
      "metadata": {
        "colab": {
          "base_uri": "https://localhost:8080/"
        },
        "id": "oWwiQ_H0_QwW",
        "outputId": "6b5b9c7a-badb-4e70-e227-bdec49d20f4c"
      },
      "execution_count": 355,
      "outputs": [
        {
          "output_type": "execute_result",
          "data": {
            "text/plain": [
              "0     100000000.0\n",
              "1     200000000.0\n",
              "2      44000000.0\n",
              "3      14000000.0\n",
              "4     225000000.0\n",
              "         ...     \n",
              "92     20000000.0\n",
              "93            NaN\n",
              "94     55000000.0\n",
              "95     68000000.0\n",
              "96     40000000.0\n",
              "Name: budget, Length: 91, dtype: float64"
            ]
          },
          "metadata": {},
          "execution_count": 355
        }
      ]
    },
    {
      "cell_type": "code",
      "source": [
        "media = imdb3[\"budget\"].median()"
      ],
      "metadata": {
        "id": "z9IKqlW3dTS3"
      },
      "execution_count": 356,
      "outputs": []
    },
    {
      "cell_type": "code",
      "source": [
        "imdb3[\"budget\"].fillna(\"media\",inplace=True)"
      ],
      "metadata": {
        "id": "hp2znq9Fb08O"
      },
      "execution_count": 357,
      "outputs": []
    },
    {
      "cell_type": "code",
      "source": [
        "imdb3.isnull().sum()"
      ],
      "metadata": {
        "colab": {
          "base_uri": "https://localhost:8080/"
        },
        "id": "_e0dwpRQb1Co",
        "outputId": "5d8cbcef-c770-442c-daac-0bf8550bff79"
      },
      "execution_count": 358,
      "outputs": [
        {
          "output_type": "execute_result",
          "data": {
            "text/plain": [
              "director_name           0\n",
              "duration                0\n",
              "gross                   0\n",
              "genres                  0\n",
              "movie_title             0\n",
              "title_year              0\n",
              "language                0\n",
              "country                 0\n",
              "budget                  0\n",
              "imdb_score              0\n",
              "actors                  0\n",
              "movie_facebook_likes    0\n",
              "dtype: int64"
            ]
          },
          "metadata": {},
          "execution_count": 358
        }
      ]
    },
    {
      "cell_type": "code",
      "source": [
        "imdb3[\"budget\"].value_counts()"
      ],
      "metadata": {
        "id": "sYkXN_7wb1Gt",
        "colab": {
          "base_uri": "https://localhost:8080/"
        },
        "outputId": "950bf619-6658-4114-f010-d897a998d6ef"
      },
      "execution_count": 359,
      "outputs": [
        {
          "output_type": "execute_result",
          "data": {
            "text/plain": [
              "250000000.0    6\n",
              "100000000.0    5\n",
              "50000000.0     5\n",
              "200000000.0    5\n",
              "40000000.0     5\n",
              "media          4\n",
              "25000000.0     4\n",
              "65000000.0     3\n",
              "225000000.0    2\n",
              "125000000.0    2\n",
              "20000000.0     2\n",
              "61000000.0     2\n",
              "32000000.0     2\n",
              "160000000.0    2\n",
              "35000000.0     2\n",
              "45000000.0     1\n",
              "55000000.0     1\n",
              "105000000.0    1\n",
              "17350.0        1\n",
              "1400000.0      1\n",
              "78000000.0     1\n",
              "190000000.0    1\n",
              "60000000.0     1\n",
              "70000000.0     1\n",
              "15000000.0     1\n",
              "85000000.0     1\n",
              "30000000.0     1\n",
              "31000000.0     1\n",
              "80000000.0     1\n",
              "120000000.0    1\n",
              "170000000.0    1\n",
              "75000000.0     1\n",
              "178000000.0    1\n",
              "245000000.0    1\n",
              "25500000.0     1\n",
              "4000000.0      1\n",
              "44000000.0     1\n",
              "14000000.0     1\n",
              "180000000.0    1\n",
              "220000000.0    1\n",
              "102000000.0    1\n",
              "22000000.0     1\n",
              "165000000.0    1\n",
              "28000000.0     1\n",
              "210000000.0    1\n",
              "66000000.0     1\n",
              "135000000.0    1\n",
              "195000000.0    1\n",
              "46000000.0     1\n",
              "230000000.0    1\n",
              "140000000.0    1\n",
              "215000000.0    1\n",
              "3500000.0      1\n",
              "130000000.0    1\n",
              "68000000.0     1\n",
              "Name: budget, dtype: int64"
            ]
          },
          "metadata": {},
          "execution_count": 359
        }
      ]
    },
    {
      "cell_type": "code",
      "source": [
        "imdb2[\"budget\"].hist()"
      ],
      "metadata": {
        "colab": {
          "base_uri": "https://localhost:8080/",
          "height": 296
        },
        "id": "-HiDDhXRb1K1",
        "outputId": "a472aa1c-01f7-4e8d-8944-ae6a38406f9d"
      },
      "execution_count": 360,
      "outputs": [
        {
          "output_type": "execute_result",
          "data": {
            "text/plain": [
              "<matplotlib.axes._subplots.AxesSubplot at 0x7fe8faf42f10>"
            ]
          },
          "metadata": {},
          "execution_count": 360
        },
        {
          "output_type": "display_data",
          "data": {
            "text/plain": [
              "<Figure size 432x288 with 1 Axes>"
            ],
            "image/png": "[encoded data removed]"
          },
          "metadata": {
            "needs_background": "light"
          }
        }
      ]
    },
    {
      "cell_type": "code",
      "source": [
        "imdb3.hist(\"duration\")"
      ],
      "metadata": {
        "colab": {
          "base_uri": "https://localhost:8080/",
          "height": 318
        },
        "id": "qVHCB-bPpGEe",
        "outputId": "cb48f3cd-6ae9-47f7-d7d5-f144399800cc"
      },
      "execution_count": 361,
      "outputs": [
        {
          "output_type": "execute_result",
          "data": {
            "text/plain": [
              "array([[<matplotlib.axes._subplots.AxesSubplot object at 0x7fe8faaf8790>]],\n",
              "      dtype=object)"
            ]
          },
          "metadata": {},
          "execution_count": 361
        },
        {
          "output_type": "display_data",
          "data": {
            "text/plain": [
              "<Figure size 432x288 with 1 Axes>"
            ],
            "image/png": "[encoded data removed]"
          },
          "metadata": {
            "needs_background": "light"
          }
        }
      ]
    },
    {
      "cell_type": "code",
      "source": [
        "len(imdb3[(imdb3[\"duration\"]<150) & (imdb3[\"title_year\"]==2012)]) "
      ],
      "metadata": {
        "colab": {
          "base_uri": "https://localhost:8080/"
        },
        "id": "gtZMO-D_hzXc",
        "outputId": "9abe837b-4a29-4012-eed3-29a2bea97050"
      },
      "execution_count": 362,
      "outputs": [
        {
          "output_type": "execute_result",
          "data": {
            "text/plain": [
              "10"
            ]
          },
          "metadata": {},
          "execution_count": 362
        }
      ]
    },
    {
      "cell_type": "code",
      "source": [
        "len(imdb3[(imdb3[\"duration\"]<150) & (imdb3[\"title_year\"]==2012) & (imdb3[\"imdb_score\"]>7)])"
      ],
      "metadata": {
        "id": "JCh9qyBxpGJ5",
        "colab": {
          "base_uri": "https://localhost:8080/"
        },
        "outputId": "efab8dfb-b486-41f0-e6ce-4b3b0a7b4037"
      },
      "execution_count": 363,
      "outputs": [
        {
          "output_type": "execute_result",
          "data": {
            "text/plain": [
              "6"
            ]
          },
          "metadata": {},
          "execution_count": 363
        }
      ]
    },
    {
      "cell_type": "code",
      "source": [
        "imdb3[(imdb3[\"duration\"]<50) | (imdb3[\"duration\"]>250)]"
      ],
      "metadata": {
        "id": "4_Xi_yXkhzce",
        "colab": {
          "base_uri": "https://localhost:8080/",
          "height": 340
        },
        "outputId": "42ba62b1-565d-4472-8a7e-46f39a0eebe1"
      },
      "execution_count": 364,
      "outputs": [
        {
          "output_type": "execute_result",
          "data": {
            "text/plain": [
              "        director_name  duration        gross                         genres  \\\n",
              "6       Peter Jackson       -50  303001229.0              Adventure|Fantasy   \n",
              "15  Quentin Tarantino       580  162804648.0                  Drama|Western   \n",
              "32     Gore Verbinski       650   89289910.0       Action|Adventure|Western   \n",
              "96     Clint Eastwood         5   47034272.0  Biography|Drama|Music|Musical   \n",
              "\n",
              "                          movie_title  title_year language country  \\\n",
              "6   The Hobbit: An Unexpected Journey        2012  English     USA   \n",
              "15                   Django Unchained        2012  English     USA   \n",
              "32                    The Lone Ranger        2013  English     USA   \n",
              "96                        Jersey Boys        2014  English     USA   \n",
              "\n",
              "         budget  imdb_score                                          actors  \\\n",
              "6   180000000.0         7.9           Aidan Turner,Adam Brown,James Nesbitt   \n",
              "15  100000000.0         8.5  Leonardo DiCaprio,Christoph Waltz,Ato Essandoh   \n",
              "32  215000000.0         6.5           Johnny Depp,Ruth Wilson,Tom Wilkinson   \n",
              "96   40000000.0         6.9   Johnny Cannizzaro,Steve Schirripa,Scott Vance   \n",
              "\n",
              "    movie_facebook_likes  \n",
              "6                 166000  \n",
              "15                199000  \n",
              "32                 48000  \n",
              "96                 16000  "
            ],
            "text/html": [
              "\n",
              "  <div id=\"df-1cdcba2b-a0bc-4447-8f48-1aaeec93b5ec\">\n",
              "    <div class=\"colab-df-container\">\n",
              "      <div>\n",
              "<style scoped>\n",
              "    .dataframe tbody tr th:only-of-type {\n",
              "        vertical-align: middle;\n",
              "    }\n",
              "\n",
              "    .dataframe tbody tr th {\n",
              "        vertical-align: top;\n",
              "    }\n",
              "\n",
              "    .dataframe thead th {\n",
              "        text-align: right;\n",
              "    }\n",
              "</style>\n",
              "<table border=\"1\" class=\"dataframe\">\n",
              "  <thead>\n",
              "    <tr style=\"text-align: right;\">\n",
              "      <th></th>\n",
              "      <th>director_name</th>\n",
              "      <th>duration</th>\n",
              "      <th>gross</th>\n",
              "      <th>genres</th>\n",
              "      <th>movie_title</th>\n",
              "      <th>title_year</th>\n",
              "      <th>language</th>\n",
              "      <th>country</th>\n",
              "      <th>budget</th>\n",
              "      <th>imdb_score</th>\n",
              "      <th>actors</th>\n",
              "      <th>movie_facebook_likes</th>\n",
              "    </tr>\n",
              "  </thead>\n",
              "  <tbody>\n",
              "    <tr>\n",
              "      <th>6</th>\n",
              "      <td>Peter Jackson</td>\n",
              "      <td>-50</td>\n",
              "      <td>303001229.0</td>\n",
              "      <td>Adventure|Fantasy</td>\n",
              "      <td>The Hobbit: An Unexpected Journey</td>\n",
              "      <td>2012</td>\n",
              "      <td>English</td>\n",
              "      <td>USA</td>\n",
              "      <td>180000000.0</td>\n",
              "      <td>7.9</td>\n",
              "      <td>Aidan Turner,Adam Brown,James Nesbitt</td>\n",
              "      <td>166000</td>\n",
              "    </tr>\n",
              "    <tr>\n",
              "      <th>15</th>\n",
              "      <td>Quentin Tarantino</td>\n",
              "      <td>580</td>\n",
              "      <td>162804648.0</td>\n",
              "      <td>Drama|Western</td>\n",
              "      <td>Django Unchained</td>\n",
              "      <td>2012</td>\n",
              "      <td>English</td>\n",
              "      <td>USA</td>\n",
              "      <td>100000000.0</td>\n",
              "      <td>8.5</td>\n",
              "      <td>Leonardo DiCaprio,Christoph Waltz,Ato Essandoh</td>\n",
              "      <td>199000</td>\n",
              "    </tr>\n",
              "    <tr>\n",
              "      <th>32</th>\n",
              "      <td>Gore Verbinski</td>\n",
              "      <td>650</td>\n",
              "      <td>89289910.0</td>\n",
              "      <td>Action|Adventure|Western</td>\n",
              "      <td>The Lone Ranger</td>\n",
              "      <td>2013</td>\n",
              "      <td>English</td>\n",
              "      <td>USA</td>\n",
              "      <td>215000000.0</td>\n",
              "      <td>6.5</td>\n",
              "      <td>Johnny Depp,Ruth Wilson,Tom Wilkinson</td>\n",
              "      <td>48000</td>\n",
              "    </tr>\n",
              "    <tr>\n",
              "      <th>96</th>\n",
              "      <td>Clint Eastwood</td>\n",
              "      <td>5</td>\n",
              "      <td>47034272.0</td>\n",
              "      <td>Biography|Drama|Music|Musical</td>\n",
              "      <td>Jersey Boys</td>\n",
              "      <td>2014</td>\n",
              "      <td>English</td>\n",
              "      <td>USA</td>\n",
              "      <td>40000000.0</td>\n",
              "      <td>6.9</td>\n",
              "      <td>Johnny Cannizzaro,Steve Schirripa,Scott Vance</td>\n",
              "      <td>16000</td>\n",
              "    </tr>\n",
              "  </tbody>\n",
              "</table>\n",
              "</div>\n",
              "      <button class=\"colab-df-convert\" onclick=\"convertToInteractive('df-1cdcba2b-a0bc-4447-8f48-1aaeec93b5ec')\"\n",
              "              title=\"Convert this dataframe to an interactive table.\"\n",
              "              style=\"display:none;\">\n",
              "        \n",
              "  <svg xmlns=\"http://www.w3.org/2000/svg\" height=\"24px\"viewBox=\"0 0 24 24\"\n",
              "       width=\"24px\">\n",
              "    <path d=\"M0 0h24v24H0V0z\" fill=\"none\"/>\n",
              "    <path d=\"M18.56 5.44l.94 2.06.94-2.06 2.06-.94-2.06-.94-.94-2.06-.94 2.06-2.06.94zm-11 1L8.5 8.5l.94-2.06 2.06-.94-2.06-.94L8.5 2.5l-.94 2.06-2.06.94zm10 10l.94 2.06.94-2.06 2.06-.94-2.06-.94-.94-2.06-.94 2.06-2.06.94z\"/><path d=\"M17.41 7.96l-1.37-1.37c-.4-.4-.92-.59-1.43-.59-.52 0-1.04.2-1.43.59L10.3 9.45l-7.72 7.72c-.78.78-.78 2.05 0 2.83L4 21.41c.39.39.9.59 1.41.59.51 0 1.02-.2 1.41-.59l7.78-7.78 2.81-2.81c.8-.78.8-2.07 0-2.86zM5.41 20L4 18.59l7.72-7.72 1.47 1.35L5.41 20z\"/>\n",
              "  </svg>\n",
              "      </button>\n",
              "      \n",
              "  <style>\n",
              "    .colab-df-container {\n",
              "      display:flex;\n",
              "      flex-wrap:wrap;\n",
              "      gap: 12px;\n",
              "    }\n",
              "\n",
              "    .colab-df-convert {\n",
              "      background-color: #E8F0FE;\n",
              "      border: none;\n",
              "      border-radius: 50%;\n",
              "      cursor: pointer;\n",
              "      display: none;\n",
              "      fill: #1967D2;\n",
              "      height: 32px;\n",
              "      padding: 0 0 0 0;\n",
              "      width: 32px;\n",
              "    }\n",
              "\n",
              "    .colab-df-convert:hover {\n",
              "      background-color: #E2EBFA;\n",
              "      box-shadow: 0px 1px 2px rgba(60, 64, 67, 0.3), 0px 1px 3px 1px rgba(60, 64, 67, 0.15);\n",
              "      fill: #174EA6;\n",
              "    }\n",
              "\n",
              "    [theme=dark] .colab-df-convert {\n",
              "      background-color: #3B4455;\n",
              "      fill: #D2E3FC;\n",
              "    }\n",
              "\n",
              "    [theme=dark] .colab-df-convert:hover {\n",
              "      background-color: #434B5C;\n",
              "      box-shadow: 0px 1px 3px 1px rgba(0, 0, 0, 0.15);\n",
              "      filter: drop-shadow(0px 1px 2px rgba(0, 0, 0, 0.3));\n",
              "      fill: #FFFFFF;\n",
              "    }\n",
              "  </style>\n",
              "\n",
              "      <script>\n",
              "        const buttonEl =\n",
              "          document.querySelector('#df-1cdcba2b-a0bc-4447-8f48-1aaeec93b5ec button.colab-df-convert');\n",
              "        buttonEl.style.display =\n",
              "          google.colab.kernel.accessAllowed ? 'block' : 'none';\n",
              "\n",
              "        async function convertToInteractive(key) {\n",
              "          const element = document.querySelector('#df-1cdcba2b-a0bc-4447-8f48-1aaeec93b5ec');\n",
              "          const dataTable =\n",
              "            await google.colab.kernel.invokeFunction('convertToInteractive',\n",
              "                                                     [key], {});\n",
              "          if (!dataTable) return;\n",
              "\n",
              "          const docLinkHtml = 'Like what you see? Visit the ' +\n",
              "            '<a target=\"_blank\" href=https://colab.research.google.com/notebooks/data_table.ipynb>data table notebook</a>'\n",
              "            + ' to learn more about interactive tables.';\n",
              "          element.innerHTML = '';\n",
              "          dataTable['output_type'] = 'display_data';\n",
              "          await google.colab.output.renderOutput(dataTable, element);\n",
              "          const docLink = document.createElement('div');\n",
              "          docLink.innerHTML = docLinkHtml;\n",
              "          element.appendChild(docLink);\n",
              "        }\n",
              "      </script>\n",
              "    </div>\n",
              "  </div>\n",
              "  "
            ]
          },
          "metadata": {},
          "execution_count": 364
        }
      ]
    },
    {
      "cell_type": "code",
      "source": [
        "media_duration = (imdb3[(imdb3[\"duration\"]>50) & (imdb3[\"duration\"]<300)])[\"duration\"].mean()"
      ],
      "metadata": {
        "id": "P8QIA2kHjt70"
      },
      "execution_count": 365,
      "outputs": []
    },
    {
      "cell_type": "code",
      "source": [
        "print(media_duration)"
      ],
      "metadata": {
        "colab": {
          "base_uri": "https://localhost:8080/"
        },
        "id": "GkeSlOdsuPpp",
        "outputId": "42c6100e-db76-4ec9-d3b5-4c64c72366a9"
      },
      "execution_count": 366,
      "outputs": [
        {
          "output_type": "stream",
          "name": "stdout",
          "text": [
            "149.33333333333334\n"
          ]
        }
      ]
    },
    {
      "cell_type": "code",
      "source": [
        "imdb3[\"duration\"].mean()"
      ],
      "metadata": {
        "colab": {
          "base_uri": "https://localhost:8080/"
        },
        "id": "zeiQ1-nujuBQ",
        "outputId": "35912f99-7f00-42f4-effa-b2d039df49d6"
      },
      "execution_count": 367,
      "outputs": [
        {
          "output_type": "execute_result",
          "data": {
            "text/plain": [
              "155.7912087912088"
            ]
          },
          "metadata": {},
          "execution_count": 367
        }
      ]
    },
    {
      "cell_type": "code",
      "source": [
        "imdb3[\"duration\"]=np.where(imdb3[\"duration\"]<50,media_duration,imdb3[\"duration\"])"
      ],
      "metadata": {
        "id": "aNqW4Oip4ccV"
      },
      "execution_count": 368,
      "outputs": []
    },
    {
      "cell_type": "code",
      "source": [
        "imdb3.hist(\"duration\")"
      ],
      "metadata": {
        "colab": {
          "base_uri": "https://localhost:8080/",
          "height": 318
        },
        "id": "7JWumso4juJR",
        "outputId": "533cfbe3-bb59-4e9a-c263-4986a769af16"
      },
      "execution_count": 369,
      "outputs": [
        {
          "output_type": "execute_result",
          "data": {
            "text/plain": [
              "array([[<matplotlib.axes._subplots.AxesSubplot object at 0x7fe8fa3ebe90>]],\n",
              "      dtype=object)"
            ]
          },
          "metadata": {},
          "execution_count": 369
        },
        {
          "output_type": "display_data",
          "data": {
            "text/plain": [
              "<Figure size 432x288 with 1 Axes>"
            ],
            "image/png": "[encoded data removed]"
          },
          "metadata": {
            "needs_background": "light"
          }
        }
      ]
    },
    {
      "cell_type": "code",
      "source": [
        "imdb3[\"duration\"]=np.where(imdb3[\"duration\"]>230,media_duration,imdb3[\"duration\"]) "
      ],
      "metadata": {
        "id": "PHG4TZqo4QHG"
      },
      "execution_count": 372,
      "outputs": []
    },
    {
      "cell_type": "code",
      "source": [
        "imdb3.hist(\"duration\")"
      ],
      "metadata": {
        "colab": {
          "base_uri": "https://localhost:8080/",
          "height": 318
        },
        "id": "bgntWiaI9Ss2",
        "outputId": "d1e2ef88-52e3-4129-bf6f-29fe287f88c3"
      },
      "execution_count": 373,
      "outputs": [
        {
          "output_type": "execute_result",
          "data": {
            "text/plain": [
              "array([[<matplotlib.axes._subplots.AxesSubplot object at 0x7fe8fa2eff10>]],\n",
              "      dtype=object)"
            ]
          },
          "metadata": {},
          "execution_count": 373
        },
        {
          "output_type": "display_data",
          "data": {
            "text/plain": [
              "<Figure size 432x288 with 1 Axes>"
            ],
            "image/png": "[encoded data removed]"
          },
          "metadata": {
            "needs_background": "light"
          }
        }
      ]
    },
    {
      "cell_type": "code",
      "source": [],
      "metadata": {
        "id": "2VmyTzap-SVJ"
      },
      "execution_count": null,
      "outputs": []
    },
    {
      "cell_type": "code",
      "source": [],
      "metadata": {
        "id": "FXiZlnji-SXE"
      },
      "execution_count": null,
      "outputs": []
    },
    {
      "cell_type": "code",
      "source": [],
      "metadata": {
        "id": "l3GZNfPg-SbI"
      },
      "execution_count": null,
      "outputs": []
    },
    {
      "cell_type": "code",
      "source": [],
      "metadata": {
        "id": "9iarYu61-SgV"
      },
      "execution_count": null,
      "outputs": []
    },
    {
      "cell_type": "code",
      "source": [],
      "metadata": {
        "id": "PjOxQ46Q3F-N"
      },
      "execution_count": null,
      "outputs": []
    }
  ],
  "metadata": {
    "colab": {
      "collapsed_sections": [],
      "provenance": []
    },
    "gpuClass": "standard",
    "kernelspec": {
      "display_name": "Python 3",
      "name": "python3"
    },
    "language_info": {
      "name": "python"
    }
  },
  "nbformat": 4,
  "nbformat_minor": 0
}